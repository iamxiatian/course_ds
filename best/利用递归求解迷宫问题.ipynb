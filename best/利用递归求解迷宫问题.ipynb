{
 "cells": [
  {
   "cell_type": "markdown",
   "id": "b61bebde",
   "metadata": {},
   "source": [
    "递归方法整体思路：1.每个时刻总会有一个当前位置，开始时这个位置时迷宫的入口； 2.如果当前位置就是出口，则走出迷宫； 3.如果当前位置已无路可走，当前的探索失败，回退一步； 4.取一个可行相邻位置用同样的方式探查，如果从那里可以找到通往出口的路径，那么从当前位置到出口的路径就找到了。\n",
    "\n",
    "递归方法的算法过程：1.mark（标记）当前位置；2.检查当前位置是否是出口，如果是则成功； 3.逐个检查当前位置的四个邻位是否可以到达出口；4.如果对四个邻位的探索都失败，则失败。"
   ]
  },
  {
   "cell_type": "code",
   "execution_count": 1,
   "id": "ce5cbda5",
   "metadata": {},
   "outputs": [],
   "source": [
    "#0表示可行位置，1表示障碍位置\n",
    "maze_array = [\n",
    "    [1, 1, 1, 1, 1, 1, 1, 1, 1, 1],\n",
    "    [1, 0, 1, 0, 1, 0, 0, 0, 0, 1],\n",
    "    [1, 0, 1, 0, 1, 0, 0, 0, 0, 1],\n",
    "    [1, 0, 1, 0, 1, 1, 1, 1, 0, 1],\n",
    "    [1, 0, 1, 0, 0, 0, 0, 1, 0, 1],\n",
    "    [1, 0, 1, 0, 0, 0, 0, 1, 0, 1],\n",
    "    [1, 0, 0, 0, 0, 0, 0, 1, 0, 1],\n",
    "    [1, 0, 1, 0, 0, 0, 0, 0, 0, 1],\n",
    "    [1, 0, 1, 0, 0, 0, 0, 0, 0, 1],\n",
    "    [1, 1, 1, 1, 1, 1, 1, 1, 1, 1],\n",
    "]"
   ]
  },
  {
   "cell_type": "code",
   "execution_count": 2,
   "id": "1768f8a3",
   "metadata": {},
   "outputs": [],
   "source": [
    "path = []  #创建一个空列表存储路径\n",
    "\n",
    "def mark(maze, pos):\n",
    "    \"\"\"\n",
    "    标记函数，标记已走过的路径\n",
    "    \"\"\"\n",
    "    maze[pos[0]][pos[1]] = 2\n",
    "    \n",
    "def judge(maze, pos):\n",
    "    \"\"\"\n",
    "    判断函数，用来判断当前位置是否可继续移动，移动的条件是当前位置为0\n",
    "    \"\"\"\n",
    "    return maze[pos[0]][pos[1]] == 0\n",
    "\n",
    "def find_path(maze, start, end):\n",
    "    \"\"\"\n",
    "    路径查找函数\n",
    "    \"\"\"\n",
    "    mark(maze, start)  #标记起始位置\n",
    "    if start == end:  #到达终点\n",
    "        path.append(start)\n",
    "        return True  \n",
    "    \n",
    "    move_direction = [(-1,0), (1,0), (0,-1), (0,1)]  #这个方向的顺序排列会影响最后的路径选择\n",
    "    for i in range(4):\n",
    "        next_start = (start[0] + move_direction[i][0], start[1] + move_direction[i][1])  #下一个可能的起点坐标\n",
    "        if judge(maze, next_start):\n",
    "            if find_path(maze, next_start, end):  #进入递归，如果迷宫可以走出，就将该位置放入path\n",
    "                path.append(start)\n",
    "                return True\n",
    "    return False"
   ]
  },
  {
   "cell_type": "code",
   "execution_count": 3,
   "id": "e5e361d2",
   "metadata": {},
   "outputs": [
    {
     "data": {
      "text/plain": [
       "True"
      ]
     },
     "execution_count": 3,
     "metadata": {},
     "output_type": "execute_result"
    }
   ],
   "source": [
    "find_path(maze_array, (1,1), (8,8))  #迷宫可以走出"
   ]
  },
  {
   "cell_type": "code",
   "execution_count": 4,
   "id": "998c7a64",
   "metadata": {},
   "outputs": [],
   "source": [
    "def see_path(maze,path):     #使寻找到的路径可视化\n",
    "    for i,p in enumerate(path):\n",
    "        if i==0:\n",
    "            maze[p[0]][p[1]] =\"E\"  #出口\n",
    "        elif i==len(path)-1:\n",
    "            maze[p[0]][p[1]]=\"S\"  #入口\n",
    "        else:\n",
    "            maze[p[0]][p[1]] =3  #其他经过的可行路径\n",
    "    print(\"\\n\")\n",
    "    for r in maze:\n",
    "        for c in r:\n",
    "            if c==3:\n",
    "                print('\\033[0;31m'+\"*\"+\" \"+'\\033[0m',end=\"\")  #找到的路径\n",
    "            elif c==\"S\" or c==\"E\":\n",
    "                print('\\033[0;34m'+c+\" \" + '\\033[0m', end=\"\")  #起点和终点\n",
    "            elif c==2:\n",
    "                print('\\033[0;32m'+\"#\"+\" \"+'\\033[0m',end=\"\")  #探索过却不可行的路径\n",
    "            elif c==1:\n",
    "                print('\\033[0;;40m'+\" \"*2+'\\033[0m',end=\"\")  #障碍\n",
    "            else:\n",
    "                print(\" \"*2,end=\"\")\n",
    "        print()"
   ]
  },
  {
   "cell_type": "code",
   "execution_count": 5,
   "id": "0f50e8c8",
   "metadata": {},
   "outputs": [
    {
     "name": "stdout",
     "output_type": "stream",
     "text": [
      "\n",
      "\n",
      "\u001b[0;;40m  \u001b[0m\u001b[0;;40m  \u001b[0m\u001b[0;;40m  \u001b[0m\u001b[0;;40m  \u001b[0m\u001b[0;;40m  \u001b[0m\u001b[0;;40m  \u001b[0m\u001b[0;;40m  \u001b[0m\u001b[0;;40m  \u001b[0m\u001b[0;;40m  \u001b[0m\u001b[0;;40m  \u001b[0m\n",
      "\u001b[0;;40m  \u001b[0m\u001b[0;34mS \u001b[0m\u001b[0;;40m  \u001b[0m\u001b[0;32m# \u001b[0m\u001b[0;;40m  \u001b[0m\u001b[0;32m# \u001b[0m\u001b[0;32m# \u001b[0m\u001b[0;32m# \u001b[0m\u001b[0;32m# \u001b[0m\u001b[0;;40m  \u001b[0m\n",
      "\u001b[0;;40m  \u001b[0m\u001b[0;31m* \u001b[0m\u001b[0;;40m  \u001b[0m\u001b[0;32m# \u001b[0m\u001b[0;;40m  \u001b[0m\u001b[0;32m# \u001b[0m\u001b[0;32m# \u001b[0m\u001b[0;32m# \u001b[0m\u001b[0;32m# \u001b[0m\u001b[0;;40m  \u001b[0m\n",
      "\u001b[0;;40m  \u001b[0m\u001b[0;31m* \u001b[0m\u001b[0;;40m  \u001b[0m\u001b[0;32m# \u001b[0m\u001b[0;;40m  \u001b[0m\u001b[0;;40m  \u001b[0m\u001b[0;;40m  \u001b[0m\u001b[0;;40m  \u001b[0m\u001b[0;32m# \u001b[0m\u001b[0;;40m  \u001b[0m\n",
      "\u001b[0;;40m  \u001b[0m\u001b[0;31m* \u001b[0m\u001b[0;;40m  \u001b[0m\u001b[0;31m* \u001b[0m\u001b[0;31m* \u001b[0m\u001b[0;31m* \u001b[0m\u001b[0;31m* \u001b[0m\u001b[0;;40m  \u001b[0m\u001b[0;32m# \u001b[0m\u001b[0;;40m  \u001b[0m\n",
      "\u001b[0;;40m  \u001b[0m\u001b[0;31m* \u001b[0m\u001b[0;;40m  \u001b[0m\u001b[0;31m* \u001b[0m\u001b[0;31m* \u001b[0m\u001b[0;31m* \u001b[0m\u001b[0;31m* \u001b[0m\u001b[0;;40m  \u001b[0m\u001b[0;32m# \u001b[0m\u001b[0;;40m  \u001b[0m\n",
      "\u001b[0;;40m  \u001b[0m\u001b[0;31m* \u001b[0m\u001b[0;31m* \u001b[0m\u001b[0;31m* \u001b[0m\u001b[0;31m* \u001b[0m\u001b[0;31m* \u001b[0m\u001b[0;31m* \u001b[0m\u001b[0;;40m  \u001b[0m\u001b[0;32m# \u001b[0m\u001b[0;;40m  \u001b[0m\n",
      "\u001b[0;;40m  \u001b[0m\u001b[0;32m# \u001b[0m\u001b[0;;40m  \u001b[0m\u001b[0;32m# \u001b[0m\u001b[0;31m* \u001b[0m\u001b[0;31m* \u001b[0m\u001b[0;31m* \u001b[0m\u001b[0;31m* \u001b[0m\u001b[0;31m* \u001b[0m\u001b[0;;40m  \u001b[0m\n",
      "\u001b[0;;40m  \u001b[0m\u001b[0;32m# \u001b[0m\u001b[0;;40m  \u001b[0m\u001b[0;32m# \u001b[0m\u001b[0;31m* \u001b[0m\u001b[0;31m* \u001b[0m\u001b[0;31m* \u001b[0m\u001b[0;31m* \u001b[0m\u001b[0;34mE \u001b[0m\u001b[0;;40m  \u001b[0m\n",
      "\u001b[0;;40m  \u001b[0m\u001b[0;;40m  \u001b[0m\u001b[0;;40m  \u001b[0m\u001b[0;;40m  \u001b[0m\u001b[0;;40m  \u001b[0m\u001b[0;;40m  \u001b[0m\u001b[0;;40m  \u001b[0m\u001b[0;;40m  \u001b[0m\u001b[0;;40m  \u001b[0m\u001b[0;;40m  \u001b[0m\n"
     ]
    }
   ],
   "source": [
    "see_path(maze_array,path)"
   ]
  },
  {
   "cell_type": "code",
   "execution_count": null,
   "id": "dcf5fe2e",
   "metadata": {},
   "outputs": [],
   "source": []
  }
 ],
 "metadata": {
  "kernelspec": {
   "display_name": "Python 3 (ipykernel)",
   "language": "python",
   "name": "python3"
  },
  "language_info": {
   "codemirror_mode": {
    "name": "ipython",
    "version": 3
   },
   "file_extension": ".py",
   "mimetype": "text/x-python",
   "name": "python",
   "nbconvert_exporter": "python",
   "pygments_lexer": "ipython3",
   "version": "3.9.12"
  }
 },
 "nbformat": 4,
 "nbformat_minor": 5
}
