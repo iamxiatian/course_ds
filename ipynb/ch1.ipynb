{
 "cells": [
  {
   "cell_type": "markdown",
   "metadata": {},
   "source": [
    "矩阵相乘，实践复杂度为$O(n^3)$\n",
    "\n",
    "整个算法的执行时间与元操作重复执行的次数 $n^3$ 成正比，记作$T(n) = O(n^3 )$"
   ]
  },
  {
   "cell_type": "code",
   "execution_count": 1,
   "metadata": {},
   "outputs": [
    {
     "name": "stdout",
     "output_type": "stream",
     "text": [
      "[[30, 36, 42], [66, 81, 96], [102, 126, 150]]\n"
     ]
    }
   ],
   "source": [
    "n = 3\n",
    "a = [[1,2,3],[4,5,6], [7,8,9]]\n",
    "b = [[1,2,3],[4,5,6], [7,8,9]]\n",
    "\n",
    "c = [ [0]*n for _ in range(n) ]\n",
    "for i in range(n):\n",
    "    for j in range(n):\n",
    "        c[i][j] = 0\n",
    "        for k in range(n):\n",
    "            c[i][j] = c[i][j] + a[i][k] * b[k][j]\n",
    "print(c)"
   ]
  }
 ],
 "metadata": {
  "interpreter": {
   "hash": "8c537a367a9aa2b0baf6ef8830747adeae6b1ba057d5e356e28e6f8494a273c8"
  },
  "kernelspec": {
   "display_name": "Python 3.8.8 ('base')",
   "language": "python",
   "name": "python3"
  },
  "language_info": {
   "codemirror_mode": {
    "name": "ipython",
    "version": 3
   },
   "file_extension": ".py",
   "mimetype": "text/x-python",
   "name": "python",
   "nbconvert_exporter": "python",
   "pygments_lexer": "ipython3",
   "version": "3.8.8"
  },
  "orig_nbformat": 4
 },
 "nbformat": 4,
 "nbformat_minor": 2
}
