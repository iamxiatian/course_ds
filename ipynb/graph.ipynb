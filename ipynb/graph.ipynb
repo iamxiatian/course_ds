{
 "cells": [
  {
   "cell_type": "markdown",
   "metadata": {},
   "source": [
    "# 图\n",
    "\n",
    "## 图的表示与遍历"
   ]
  },
  {
   "cell_type": "code",
   "execution_count": 4,
   "metadata": {},
   "outputs": [
    {
     "name": "stdout",
     "output_type": "stream",
     "text": [
      "v1, v2, v4, v8, v5, v3, v6, v7, "
     ]
    }
   ],
   "source": [
    "class VertexNode:\n",
    "    def __init__(self, id, data, first_adj = None) -> None:\n",
    "        self.id = id\n",
    "        self.data = data\n",
    "        self.first_adj = first_adj\n",
    "        \n",
    "    def __repr__(self) -> str:\n",
    "        return self.data\n",
    "    \n",
    "class EdgeNode:\n",
    "    def __init__(self, vertex_id, weight = 0, next_adj = None) -> None:\n",
    "        self.vertex_id = vertex_id\n",
    "        self.weight = weight\n",
    "        self.next_adj = next_adj\n",
    "        \n",
    "vertice = [VertexNode(i, f'v{i+1}', None) for i in range(8)]\n",
    "\n",
    "vertice[0].first_adj = EdgeNode(1, 0, EdgeNode(2, 0, None))\n",
    "vertice[1].first_adj = EdgeNode(0, 0, EdgeNode(3, 0, EdgeNode(4, 0, None)))\n",
    "vertice[2].first_adj = EdgeNode(0, 0, EdgeNode(5, 0, EdgeNode(6, 0, None)))\n",
    "vertice[3].first_adj = EdgeNode(1, 0, EdgeNode(7, 0, None))\n",
    "vertice[4].first_adj = EdgeNode(1,0, EdgeNode(7, 0, None))\n",
    "vertice[5].first_adj = EdgeNode(2, 0, EdgeNode(6, 0, None))\n",
    "vertice[6].first_adj = EdgeNode(2, 0, EdgeNode(5, 0, None))\n",
    "vertice[7].first_adj = EdgeNode(3, 0, EdgeNode(4, 0, None))\n",
    "\n",
    "\n",
    "visited = [False for _ in vertice]\n",
    "def dfs(vertex:VertexNode):\n",
    "    visited[vertex.id] = True\n",
    "    print(vertex, end=', ')\n",
    "    \n",
    "    edge_node = vertex.first_adj\n",
    "    while edge_node != None:\n",
    "        if not visited[edge_node.vertex_id]:\n",
    "            dfs(vertice[edge_node.vertex_id])\n",
    "            \n",
    "        edge_node = edge_node.next_adj\n",
    "\n",
    "dfs(vertice[0])"
   ]
  },
  {
   "cell_type": "code",
   "execution_count": 5,
   "metadata": {},
   "outputs": [],
   "source": [
    "class QueueNode:\n",
    "    def __init__(self, element, next=None):\n",
    "        self.element = element\n",
    "        self.next = next\n",
    "\n",
    "class Queue:\n",
    "    def __init__(self):\n",
    "        self.front = QueueNode('Head')\n",
    "        self.rear = self.front\n",
    "\n",
    "    def enqueue(self, e):\n",
    "        self.rear.next = QueueNode(e)\n",
    "        self.rear = self.rear.next\n",
    "\n",
    "    def empty(self):\n",
    "        return self.front == self.rear\n",
    "\n",
    "    def dequeue(self):\n",
    "        if self.empty():\n",
    "            return None\n",
    "        else:\n",
    "            e = self.front.next.element\n",
    "            self.front.next = self.front.next.next\n",
    "            if self.front.next == None:\n",
    "                self.rear = self.front\n",
    "            return e\n"
   ]
  },
  {
   "cell_type": "code",
   "execution_count": 7,
   "metadata": {},
   "outputs": [
    {
     "name": "stdout",
     "output_type": "stream",
     "text": [
      "v1,v2,v3,v4,v5,v6,v7,v8,"
     ]
    }
   ],
   "source": [
    "def bfs():\n",
    "    visited = [False for _ in vertice]\n",
    "    q = Queue()\n",
    "    q.enqueue(vertice[0])\n",
    "    while not q.empty():\n",
    "        current:VertexNode = q.dequeue()    \n",
    "        if not visited[current.id]:\n",
    "            visited[current.id] = True\n",
    "            print(current, end=',')\n",
    "            adj = current.first_adj\n",
    "            while adj != None:\n",
    "                if not visited[adj.vertex_id]:\n",
    "                    q.enqueue(vertice[adj.vertex_id])\n",
    "                    \n",
    "                adj = adj.next_adj\n",
    "                \n",
    "bfs()        "
   ]
  },
  {
   "cell_type": "markdown",
   "metadata": {},
   "source": [
    "## Dijkstra算法\n",
    "\n",
    "简化实现版本，未考虑异常情况，假设求解时，源点到目标顶点可以到达。"
   ]
  },
  {
   "cell_type": "code",
   "execution_count": 32,
   "metadata": {},
   "outputs": [],
   "source": [
    "UNVISITED = 0\n",
    "VISITED = 1\n",
    "MAX_VALUE = 100000    \n",
    "\n",
    "class EdgeNode:\n",
    "    def __init__(self, adj_vertex_id, weight, next = None) -> None:\n",
    "        \"\"\"边节点\"\"\"\n",
    "        self.adj_vertex_id = adj_vertex_id\n",
    "        self.weight = weight\n",
    "        self.next = next\n",
    "\n",
    "\n",
    "class VertexNode:\n",
    "    def __init__(self, label, first_adj = None) -> None:\n",
    "        self.label = label\n",
    "        self.first_adj = first_adj\n",
    "\n",
    "\n",
    "class Graph:\n",
    "    def __init__(self, vertex_labels = []) -> None:\n",
    "        self.vertices = [VertexNode(label) for label in vertex_labels]\n",
    "        self.marks = [UNVISITED for i in vertex_labels]\n",
    "        self.edge_num = 0\n",
    "        \n",
    "        \n",
    "    def n(self):\n",
    "        \"\"\"返回节点的数量\"\"\"\n",
    "        return len(self.vertices)\n",
    "    \n",
    "    def get_mark(self, i):\n",
    "        return self.marks[i]\n",
    "    \n",
    "    def mark(self, i, tag):\n",
    "        self.marks[i] = tag\n",
    "    \n",
    "    def add_edge(self, i, j, weight):\n",
    "        \"\"\"加入一条边，未考虑重复加入的问题\n",
    "        \"\"\"\n",
    "        vertex = self.vertices[i]\n",
    "        \n",
    "        if vertex.first_adj==None:\n",
    "            vertex.first_adj = EdgeNode(j, weight, None)\n",
    "        elif j < vertex.first_adj.adj_vertex_id:\n",
    "            edgenode = EdgeNode(j, weight, vertex.first_adj)\n",
    "            vertex.first_adj = edgenode\n",
    "        else:\n",
    "            p = vertex.first_adj\n",
    "            while p.next != None and p.next.adj_vertex_id < j:\n",
    "                p = p.next\n",
    "            edgenode = EdgeNode(j, weight, p.next)\n",
    "            p.next = edgenode\n",
    "        \n",
    "        self.edge_num += 1\n",
    "    \n",
    "    def weight(self, v, w):\n",
    "        \"\"\"获取边(v->w)的权重\"\"\"\n",
    "        neighbor = self.vertices[v].first_adj\n",
    "        while neighbor != None:\n",
    "            if neighbor.adj_vertex_id == w:\n",
    "                return neighbor.weight\n",
    "            neighbor = neighbor.next\n",
    "            \n",
    "        return MAX_VALUE\n",
    "    "
   ]
  },
  {
   "cell_type": "code",
   "execution_count": 36,
   "metadata": {},
   "outputs": [
    {
     "name": "stdout",
     "output_type": "stream",
     "text": [
      "0: -> 1 -> 3 \n",
      "1: -> 3 -> 4 \n",
      "2: -> 0 -> 5 \n",
      "3: -> 2 -> 4 -> 5 -> 6 \n",
      "4: -> 6 \n",
      "5: \n",
      "6: -> 5 \n"
     ]
    }
   ],
   "source": [
    "G = Graph(['0', '1', '2','3','4','5','6'])\n",
    "\n",
    "# 构建边\n",
    "edges = [(0,1,2), (0,3,1), (1,3,3), (1,4,10), (2,0,4), (2,5,5), (3,2,2),(3,5,8), (3,6,4), (3,4,2), (4,6,6), (6,5,1)]\n",
    "for i, j, weight in edges:\n",
    "    G.add_edge(i, j, weight)\n",
    "    \n",
    "# 显示图的邻接表信息\n",
    "for i in range(G.n()):\n",
    "    print(G.vertices[i].label, end=': ')\n",
    "    neighbor = G.vertices[i].first_adj\n",
    "    while neighbor!=None:\n",
    "        print('->', G.vertices[neighbor.adj_vertex_id].label, end=' ')\n",
    "        neighbor = neighbor.next\n",
    "    print()\n",
    "        "
   ]
  },
  {
   "cell_type": "code",
   "execution_count": 37,
   "metadata": {},
   "outputs": [
    {
     "name": "stdout",
     "output_type": "stream",
     "text": [
      "0 到 1 的最短距离为： 2\n",
      "0 到 2 的最短距离为： 3\n",
      "0 到 3 的最短距离为： 1\n",
      "0 到 4 的最短距离为： 3\n",
      "0 到 5 的最短距离为： 6\n",
      "0 到 6 的最短距离为： 5\n"
     ]
    }
   ],
   "source": [
    "def find_min_vertex(graph, D):\n",
    "    # 找一个未被访问过的节点\n",
    "    v = 0 \n",
    "    for i in range(graph.n()):\n",
    "        if graph.get_mark(i) == UNVISITED:\n",
    "            v = i\n",
    "            break\n",
    "        \n",
    "    # 寻找距离最小的未访问过的顶点\n",
    "    for i in range(graph.n()):\n",
    "        if graph.get_mark(i) == UNVISITED and D[i] < D[v]:\n",
    "            v = i\n",
    "            \n",
    "    return v\n",
    "        \n",
    "\n",
    "def dijkstra(graph, source):\n",
    "    \"\"\"计算从原点source开始到其他位置的最短路径\"\"\"\n",
    "    \n",
    "    # 初始化当前节点到所有其他节点的距离为最大值\n",
    "    D = [MAX_VALUE for _ in range(graph.n())]\n",
    "    D[source] = 0\n",
    "    for i in range(graph.n()):\n",
    "        # 找到距离最近的点\n",
    "        v = find_min_vertex(graph, D)\n",
    "        # 标记为已经访问过\n",
    "        graph.mark(v, VISITED)\n",
    "        # 距离无穷大，则说明无路径可达\n",
    "        if D[v] == MAX_VALUE:\n",
    "            print(\"无法到达。。。\")\n",
    "            return\n",
    "        #处理v的邻居，看是否通过v可以让路径变短\n",
    "        neighbor = graph.vertices[v].first_adj\n",
    "        while neighbor != None:\n",
    "            w = neighbor.adj_vertex_id\n",
    "            if D[w] > D[v] + graph.weight(v, w):\n",
    "                D[w] = D[v] + graph.weight(v, w)\n",
    "            neighbor = neighbor.next\n",
    "\n",
    "    return D                \n",
    "        \n",
    "# 设置source为源点        \n",
    "source = 0 \n",
    "# source到其他顶点的距离已经保存到distances中，未考虑异常情况\n",
    "distances = dijkstra(G, source)\n",
    "for idx, distance in enumerate(distances):\n",
    "    if idx != source:\n",
    "        print(G.vertices[source].label, '到', G.vertices[idx].label, '的最短距离为：', distance)\n",
    "        "
   ]
  }
 ],
 "metadata": {
  "kernelspec": {
   "display_name": "Python 3.9.7 ('base')",
   "language": "python",
   "name": "python3"
  },
  "language_info": {
   "codemirror_mode": {
    "name": "ipython",
    "version": 3
   },
   "file_extension": ".py",
   "mimetype": "text/x-python",
   "name": "python",
   "nbconvert_exporter": "python",
   "pygments_lexer": "ipython3",
   "version": "3.9.7"
  },
  "orig_nbformat": 4,
  "vscode": {
   "interpreter": {
    "hash": "0522cd5858c5bd2e4c4a96d21fc2e8028e73501cd21401bf0eb36d0fd38ecacc"
   }
  }
 },
 "nbformat": 4,
 "nbformat_minor": 2
}
