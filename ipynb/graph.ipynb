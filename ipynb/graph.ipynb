{
 "cells": [
  {
   "cell_type": "markdown",
   "metadata": {},
   "source": [
    "# 图\n",
    "\n",
    "## 图的表示"
   ]
  },
  {
   "cell_type": "code",
   "execution_count": 4,
   "metadata": {},
   "outputs": [
    {
     "name": "stdout",
     "output_type": "stream",
     "text": [
      "v1\n"
     ]
    },
    {
     "ename": "AttributeError",
     "evalue": "'EdgeNode' object has no attribute 'id'",
     "output_type": "error",
     "traceback": [
      "\u001b[1;31m---------------------------------------------------------------------------\u001b[0m",
      "\u001b[1;31mAttributeError\u001b[0m                            Traceback (most recent call last)",
      "\u001b[1;32m~an\\Temp/ipykernel_12508/253596878.py\u001b[0m in \u001b[0;36m<module>\u001b[1;34m\u001b[0m\n\u001b[0;32m     38\u001b[0m         \u001b[0medge_node\u001b[0m \u001b[1;33m=\u001b[0m \u001b[0medge_node\u001b[0m\u001b[1;33m.\u001b[0m\u001b[0mnext_adj\u001b[0m\u001b[1;33m\u001b[0m\u001b[1;33m\u001b[0m\u001b[0m\n\u001b[0;32m     39\u001b[0m \u001b[1;33m\u001b[0m\u001b[0m\n\u001b[1;32m---> 40\u001b[1;33m \u001b[0mdfs\u001b[0m\u001b[1;33m(\u001b[0m\u001b[0mvertice\u001b[0m\u001b[1;33m[\u001b[0m\u001b[1;36m0\u001b[0m\u001b[1;33m]\u001b[0m\u001b[1;33m)\u001b[0m\u001b[1;33m\u001b[0m\u001b[1;33m\u001b[0m\u001b[0m\n\u001b[0m",
      "\u001b[1;32m~an\\Temp/ipykernel_12508/253596878.py\u001b[0m in \u001b[0;36mdfs\u001b[1;34m(vertex)\u001b[0m\n\u001b[0;32m     33\u001b[0m     \u001b[0medge_node\u001b[0m \u001b[1;33m=\u001b[0m \u001b[0mvertex\u001b[0m\u001b[1;33m.\u001b[0m\u001b[0mfirst_adj\u001b[0m\u001b[1;33m\u001b[0m\u001b[1;33m\u001b[0m\u001b[0m\n\u001b[0;32m     34\u001b[0m     \u001b[1;32mwhile\u001b[0m \u001b[0medge_node\u001b[0m \u001b[1;33m!=\u001b[0m \u001b[1;32mNone\u001b[0m\u001b[1;33m:\u001b[0m\u001b[1;33m\u001b[0m\u001b[1;33m\u001b[0m\u001b[0m\n\u001b[1;32m---> 35\u001b[1;33m         \u001b[1;32mif\u001b[0m \u001b[1;32mnot\u001b[0m \u001b[0mvisited\u001b[0m\u001b[1;33m[\u001b[0m\u001b[0medge_node\u001b[0m\u001b[1;33m.\u001b[0m\u001b[0mid\u001b[0m\u001b[1;33m]\u001b[0m\u001b[1;33m:\u001b[0m\u001b[1;33m\u001b[0m\u001b[1;33m\u001b[0m\u001b[0m\n\u001b[0m\u001b[0;32m     36\u001b[0m             \u001b[0mdfs\u001b[0m\u001b[1;33m(\u001b[0m\u001b[0mvertice\u001b[0m\u001b[1;33m[\u001b[0m\u001b[0medge_node\u001b[0m\u001b[1;33m.\u001b[0m\u001b[0mvertex_id\u001b[0m\u001b[1;33m]\u001b[0m\u001b[1;33m)\u001b[0m\u001b[1;33m\u001b[0m\u001b[1;33m\u001b[0m\u001b[0m\n\u001b[0;32m     37\u001b[0m \u001b[1;33m\u001b[0m\u001b[0m\n",
      "\u001b[1;31mAttributeError\u001b[0m: 'EdgeNode' object has no attribute 'id'"
     ]
    }
   ],
   "source": [
    "class VertexNode:\n",
    "    def __init__(self, id, data, first_adj = None) -> None:\n",
    "        self.id = id\n",
    "        self.data = data\n",
    "        self.first_adj = first_adj\n",
    "        \n",
    "    def __repr__(self) -> str:\n",
    "        return self.data\n",
    "    \n",
    "class EdgeNode:\n",
    "    def __init__(self, vertex_id, weight = 0, next_adj = None) -> None:\n",
    "        self.vertex_id = vertex_id\n",
    "        self.weight = weight\n",
    "        self.next_adj = next_adj\n",
    "        \n",
    "vertice = [VertexNode(i, f'v{i}', None) for i in range(1, 9)]\n",
    "\n",
    "vertice[0].first_adj = EdgeNode(1, 0, EdgeNode(2, 0, None))\n",
    "vertice[1].first_adj = EdgeNode(0, 0, EdgeNode(3, 0, EdgeNode(4, 0, None)))\n",
    "vertice[2].first_adj = EdgeNode(0, 0, EdgeNode(5, 0, EdgeNode(6, 0, None)))\n",
    "vertice[3].first_adj = EdgeNode(1, 0, EdgeNode(7, 0, None))\n",
    "vertice[4].first_adj = EdgeNode(1,0, EdgeNode(7, 0, None))\n",
    "vertice[5].first_adj = EdgeNode(2, 0, EdgeNode(6, 0, None))\n",
    "vertice[6].first_adj = EdgeNode(2, 0, EdgeNode(5, 0, None))\n",
    "vertice[7].first_adj = EdgeNode(3, 0, EdgeNode(4, 0, None))\n",
    "\n",
    "\n",
    "visited = [False for _ in vertice]\n",
    "def dfs(vertex:VertexNode):\n",
    "    visited[vertex.id] = True\n",
    "    print(vertex)\n",
    "    \n",
    "    edge_node = vertex.first_adj\n",
    "    while edge_node != None:\n",
    "        if not visited[edge_node.vertex_id]:\n",
    "            dfs(vertice[edge_node.vertex_id])\n",
    "            \n",
    "        edge_node = edge_node.next_adj\n",
    "\n",
    "dfs(vertice[0])"
   ]
  }
 ],
 "metadata": {
  "kernelspec": {
   "display_name": "Python 3.9.7 ('base')",
   "language": "python",
   "name": "python3"
  },
  "language_info": {
   "codemirror_mode": {
    "name": "ipython",
    "version": 3
   },
   "file_extension": ".py",
   "mimetype": "text/x-python",
   "name": "python",
   "nbconvert_exporter": "python",
   "pygments_lexer": "ipython3",
   "version": "3.9.7"
  },
  "orig_nbformat": 4,
  "vscode": {
   "interpreter": {
    "hash": "0522cd5858c5bd2e4c4a96d21fc2e8028e73501cd21401bf0eb36d0fd38ecacc"
   }
  }
 },
 "nbformat": 4,
 "nbformat_minor": 2
}
