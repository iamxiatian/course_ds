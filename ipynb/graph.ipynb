{
 "cells": [
  {
   "cell_type": "markdown",
   "metadata": {},
   "source": [
    "# 作业：图的最小生成树和最短路径问题\n",
    "\n",
    "## 实验数据图\n"
   ]
  },
  {
   "cell_type": "code",
   "execution_count": 1,
   "metadata": {},
   "outputs": [
    {
     "name": "stdout",
     "output_type": "stream",
     "text": [
      "Vertex 0: [1, 3, 5, 6]\n",
      "Vertex 1: [0, 2, 3, 5, 6]\n",
      "Vertex 3: [0, 1, 2, 4]\n",
      "Vertex 5: [0, 1, 8]\n",
      "Vertex 6: [0, 1, 2, 4, 7, 8, 9]\n",
      "Vertex 2: [1, 3, 4, 6]\n",
      "Vertex 4: [2, 3, 6, 8, 9]\n",
      "Vertex 8: [4, 5, 6]\n",
      "Vertex 9: [4, 6]\n",
      "Vertex 7: [6]\n"
     ]
    }
   ],
   "source": [
    "# 使用邻接表表示图\n",
    "from collections import defaultdict\n",
    "import random\n",
    "\n",
    "\n",
    "def generate_graph_adjacency_list(num_vertices, edge_probability=0.5):\n",
    "    # 初始化一个空的邻接表\n",
    "    graph = defaultdict(list)\n",
    "\n",
    "    # 随机生成边\n",
    "    for i in range(num_vertices):\n",
    "        for j in range(i + 1, num_vertices):  # 只考虑比当前顶点编号大的顶点\n",
    "            if (\n",
    "                random.random() < edge_probability\n",
    "            ):  # 以edge_probability的概率添加边\n",
    "                graph[i].append(j)\n",
    "                graph[j].append(i)  # 无向图，添加反向边\n",
    "\n",
    "    return graph\n",
    "\n",
    "\n",
    "# 示例：生成一个包含10个顶点的图\n",
    "num_vertices = 10\n",
    "graph_list = generate_graph_adjacency_list(num_vertices)\n",
    "for vertex, neighbors in graph_list.items():\n",
    "    print(f\"Vertex {vertex}: {neighbors}\")"
   ]
  },
  {
   "cell_type": "code",
   "execution_count": 2,
   "metadata": {},
   "outputs": [
    {
     "name": "stdout",
     "output_type": "stream",
     "text": [
      "[0, 1, 1, 1, 0, 1, 0, 0, 1, 0]\n",
      "[1, 0, 1, 1, 0, 0, 0, 1, 1, 1]\n",
      "[1, 1, 0, 0, 0, 0, 1, 0, 1, 1]\n",
      "[1, 1, 0, 0, 0, 1, 1, 0, 1, 1]\n",
      "[0, 0, 0, 0, 0, 1, 1, 0, 1, 1]\n",
      "[1, 0, 0, 1, 1, 0, 0, 0, 0, 1]\n",
      "[0, 0, 1, 1, 1, 0, 0, 0, 0, 1]\n",
      "[0, 1, 0, 0, 0, 0, 0, 0, 1, 0]\n",
      "[1, 1, 1, 1, 1, 0, 0, 1, 0, 1]\n",
      "[0, 1, 1, 1, 1, 1, 1, 0, 1, 0]\n"
     ]
    }
   ],
   "source": [
    "# 使用邻接矩阵表示图\n",
    "def generate_graph_adjacency_matrix(num_vertices, edge_probability=0.5):\n",
    "    # 初始化一个num_vertices x num_vertices的零矩阵\n",
    "    graph = [[0] * num_vertices for _ in range(num_vertices)]\n",
    "\n",
    "    # 随机生成边\n",
    "    for i in range(num_vertices):\n",
    "        for j in range(i + 1, num_vertices):  # 只考虑上三角矩阵（无向图时）\n",
    "            if random.random() < edge_probability:  # 以edge_probability的概率添加边\n",
    "                graph[i][j] = 1\n",
    "                graph[j][i] = 1  # 无向图，添加反向边\n",
    "\n",
    "    return graph\n",
    "\n",
    "\n",
    "# 示例：生成一个包含10个顶点的图\n",
    "num_vertices = 10\n",
    "graph_matrix = generate_graph_adjacency_matrix(num_vertices)\n",
    "for row in graph_matrix:\n",
    "    print(row)"
   ]
  }
 ],
 "metadata": {
  "kernelspec": {
   "display_name": "Python 3.9.7 ('base')",
   "language": "python",
   "name": "python3"
  },
  "language_info": {
   "codemirror_mode": {
    "name": "ipython",
    "version": 3
   },
   "file_extension": ".py",
   "mimetype": "text/x-python",
   "name": "python",
   "nbconvert_exporter": "python",
   "pygments_lexer": "ipython3",
   "version": "3.9.0"
  },
  "orig_nbformat": 4,
  "vscode": {
   "interpreter": {
    "hash": "0522cd5858c5bd2e4c4a96d21fc2e8028e73501cd21401bf0eb36d0fd38ecacc"
   }
  }
 },
 "nbformat": 4,
 "nbformat_minor": 2
}
