{
 "cells": [
  {
   "cell_type": "markdown",
   "metadata": {},
   "source": [
    "# 图\n",
    "\n",
    "## 图的表示"
   ]
  },
  {
   "cell_type": "code",
   "execution_count": 2,
   "metadata": {},
   "outputs": [
    {
     "name": "stdout",
     "output_type": "stream",
     "text": [
      "v1\n",
      "v2\n",
      "v4\n",
      "v8\n",
      "v5\n",
      "v3\n",
      "v6\n",
      "v7\n"
     ]
    }
   ],
   "source": [
    "class VertexNode:\n",
    "    def __init__(self, id, data, first_adj = None) -> None:\n",
    "        self.id = id\n",
    "        self.data = data\n",
    "        self.first_adj = first_adj\n",
    "        \n",
    "    def __repr__(self) -> str:\n",
    "        return self.data\n",
    "    \n",
    "class EdgeNode:\n",
    "    def __init__(self, vertex_id, weight = 0, next_adj = None) -> None:\n",
    "        self.vertex_id = vertex_id\n",
    "        self.weight = weight\n",
    "        self.next_adj = next_adj\n",
    "        \n",
    "vertice = [VertexNode(i, f'v{i+1}', None) for i in range(9)]\n",
    "\n",
    "vertice[0].first_adj = EdgeNode(1, 0, EdgeNode(2, 0, None))\n",
    "vertice[1].first_adj = EdgeNode(0, 0, EdgeNode(3, 0, EdgeNode(4, 0, None)))\n",
    "vertice[2].first_adj = EdgeNode(0, 0, EdgeNode(5, 0, EdgeNode(6, 0, None)))\n",
    "vertice[3].first_adj = EdgeNode(1, 0, EdgeNode(7, 0, None))\n",
    "vertice[4].first_adj = EdgeNode(1,0, EdgeNode(7, 0, None))\n",
    "vertice[5].first_adj = EdgeNode(2, 0, EdgeNode(6, 0, None))\n",
    "vertice[6].first_adj = EdgeNode(2, 0, EdgeNode(5, 0, None))\n",
    "vertice[7].first_adj = EdgeNode(3, 0, EdgeNode(4, 0, None))\n",
    "\n",
    "\n",
    "visited = [False for _ in vertice]\n",
    "def dfs(vertex:VertexNode):\n",
    "    visited[vertex.id] = True\n",
    "    print(vertex, end=', ')\n",
    "    \n",
    "    edge_node = vertex.first_adj\n",
    "    while edge_node != None:\n",
    "        if not visited[edge_node.vertex_id]:\n",
    "            dfs(vertice[edge_node.vertex_id])\n",
    "            \n",
    "        edge_node = edge_node.next_adj\n",
    "\n",
    "dfs(vertice[0])"
   ]
  }
 ],
 "metadata": {
  "kernelspec": {
   "display_name": "Python 3.9.7 ('base')",
   "language": "python",
   "name": "python3"
  },
  "language_info": {
   "codemirror_mode": {
    "name": "ipython",
    "version": 3
   },
   "file_extension": ".py",
   "mimetype": "text/x-python",
   "name": "python",
   "nbconvert_exporter": "python",
   "pygments_lexer": "ipython3",
   "version": "3.9.7"
  },
  "orig_nbformat": 4,
  "vscode": {
   "interpreter": {
    "hash": "0522cd5858c5bd2e4c4a96d21fc2e8028e73501cd21401bf0eb36d0fd38ecacc"
   }
  }
 },
 "nbformat": 4,
 "nbformat_minor": 2
}
