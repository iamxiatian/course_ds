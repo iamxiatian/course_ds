{
 "cells": [
  {
   "cell_type": "markdown",
   "metadata": {},
   "source": [
    "## 顺序表"
   ]
  },
  {
   "cell_type": "code",
   "execution_count": 21,
   "metadata": {},
   "outputs": [],
   "source": [
    "class SequenceList:\n",
    "    def __init__(self, max_size, elements):\n",
    "        self.max_size = max_size\n",
    "        self.length = len(elements)\n",
    "        self.elements = [0]*max_size\n",
    "        for idx, value in enumerate(elements):\n",
    "            self.elements[idx] = value\n",
    "\n",
    "    def is_empty(self):\n",
    "        return self.length == 0\n",
    "\n",
    "    def __len__(self):\n",
    "        return self.length\n",
    "\n",
    "    def __getitem__(self, i):\n",
    "        return self.elements[i]\n",
    "\n",
    "    def __setitem__(self, i, value):\n",
    "        self.elements[i] = value\n",
    "\n",
    "    def __delitem__(self, i):\n",
    "        del self.elements[i]\n",
    "        self.length = self.length - 1\n",
    "\n",
    "    def remove_by_index(self, i):\n",
    "        del self.elements[i]\n",
    "        self.length = self.length - 1\n"
   ]
  },
  {
   "cell_type": "code",
   "execution_count": 22,
   "metadata": {},
   "outputs": [
    {
     "name": "stdout",
     "output_type": "stream",
     "text": [
      "3\n",
      "4\n"
     ]
    }
   ],
   "source": [
    "my_list = SequenceList(100, [1,2,3,4,5])\n",
    "print(my_list[2])\n",
    "#del my_list[2]\n",
    "my_list.remove_by_index(2)\n",
    "print(my_list[2])"
   ]
  },
  {
   "cell_type": "markdown",
   "metadata": {},
   "source": [
    "### 初始化\n",
    "\n",
    "self.elements = [0]*max_size\n",
    "\n",
    "### 增加插入、删除等操作"
   ]
  },
  {
   "cell_type": "code",
   "execution_count": 27,
   "metadata": {},
   "outputs": [],
   "source": [
    "class SequenceList:\n",
    "    def __init__(self, max_size, elements):\n",
    "        self.max_size = max_size\n",
    "        self.length = len(elements)\n",
    "        self.elements = [0]*max_size\n",
    "        for idx, value in enumerate(elements):\n",
    "            self.elements[idx] = value\n",
    "\n",
    "    def is_empty(self):\n",
    "        return self.length == 0\n",
    "\n",
    "    def __len__(self):\n",
    "        return self.length\n",
    "\n",
    "    def __getitem__(self, i):\n",
    "        return self.elements[i]\n",
    "\n",
    "    def __setitem__(self, i, value):\n",
    "        self.elements[i] = value\n",
    "\n",
    "    def __delitem__(self, i):\n",
    "        del self.elements[i]\n",
    "        self.length = self.length - 1\n",
    "\n",
    "    def remove_by_index(self, i):\n",
    "        del self.elements[i]\n",
    "        self.length = self.length - 1    \n",
    "\n",
    "    def insert(self, index, e):\n",
    "        if self.length == self.max_size:\n",
    "            print('顺序表已满！')\n",
    "            return False\n",
    "\n",
    "        if index < 0 or index > self.length:\n",
    "            print('参数错误！')\n",
    "            return False\n",
    "\n",
    "        for i in range(self.length, index, -1):\n",
    "            self.elements[i] = self.elements[i-1]\n",
    "        \n",
    "        self.elements[index] = e\n",
    "        self.length = self.length + 1\n",
    "        return True\n",
    "\n",
    "    def remove(self, index):\n",
    "        if index<0 or index>=self.length:\n",
    "            return False\n",
    "        if self.length == 0:\n",
    "            return False\n",
    "        for i in range(index, self.length):\n",
    "            self.elements[i] = self.elements[i+1]\n",
    "        self.length = self.length - 1\n"
   ]
  },
  {
   "cell_type": "code",
   "execution_count": 28,
   "metadata": {},
   "outputs": [
    {
     "name": "stdout",
     "output_type": "stream",
     "text": [
      "3\n",
      "100\n",
      "3\n"
     ]
    }
   ],
   "source": [
    "my_list = SequenceList(100, [1,2,3,4,5])\n",
    "print(my_list[2])\n",
    "my_list.insert(2, 100)\n",
    "print(my_list[2])\n",
    "\n",
    "# 删除位置2的元素\n",
    "my_list.remove(2)\n",
    "print(my_list[2])\n"
   ]
  },
  {
   "cell_type": "markdown",
   "metadata": {},
   "source": [
    "## 链表"
   ]
  },
  {
   "cell_type": "code",
   "execution_count": 1,
   "metadata": {},
   "outputs": [
    {
     "name": "stdout",
     "output_type": "stream",
     "text": [
      "3\n"
     ]
    }
   ],
   "source": [
    "class Node:\n",
    "    def __init__(self, data, next=None):\n",
    "        self.data = data\n",
    "        self.next = next\n",
    "\n",
    "first = Node(1)\n",
    "second = Node(2)\n",
    "last = Node(3)\n",
    "first.next=second\n",
    "second.next = last\n",
    "print(first.next.next.data)"
   ]
  },
  {
   "cell_type": "markdown",
   "metadata": {},
   "source": [
    "### 求带有头节点的链表长度"
   ]
  },
  {
   "cell_type": "code",
   "execution_count": 3,
   "metadata": {},
   "outputs": [
    {
     "name": "stdout",
     "output_type": "stream",
     "text": [
      "2\n"
     ]
    }
   ],
   "source": [
    "class Node:\n",
    "    def __init__(self, data, next=None):\n",
    "        self.data = data\n",
    "        self.next = next\n",
    "\n",
    "def get_length(hp):\n",
    "    p = hp.next\n",
    "    len = 0\n",
    "    while(p!=None):\n",
    "        p = p.next\n",
    "        len = len + 1\n",
    "    return len\n",
    "\n",
    "hp = Node(None, Node(45, Node(25)))\n",
    "print(get_length(hp))    "
   ]
  }
 ],
 "metadata": {
  "interpreter": {
   "hash": "1c9860f4ea51287d32dcb0b2c40f7ab1560c97214e45f56e0257725c9f8000a0"
  },
  "kernelspec": {
   "display_name": "Python 3.9.12 ('wolf')",
   "language": "python",
   "name": "python3"
  },
  "language_info": {
   "codemirror_mode": {
    "name": "ipython",
    "version": 3
   },
   "file_extension": ".py",
   "mimetype": "text/x-python",
   "name": "python",
   "nbconvert_exporter": "python",
   "pygments_lexer": "ipython3",
   "version": "3.9.12"
  },
  "orig_nbformat": 4
 },
 "nbformat": 4,
 "nbformat_minor": 2
}
