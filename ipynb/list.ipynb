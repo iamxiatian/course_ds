{
 "cells": [
  {
   "cell_type": "markdown",
   "metadata": {},
   "source": [
    "## 顺序表"
   ]
  },
  {
   "cell_type": "code",
   "execution_count": 21,
   "metadata": {},
   "outputs": [],
   "source": [
    "class SequenceList:\n",
    "    def __init__(self, max_size, elements):\n",
    "        self.max_size = max_size\n",
    "        self.length = len(elements)\n",
    "        self.elements = [0]*max_size\n",
    "        for idx, value in enumerate(elements):\n",
    "            self.elements[idx] = value\n",
    "\n",
    "    def is_empty(self):\n",
    "        return self.length == 0\n",
    "\n",
    "    def __len__(self):\n",
    "        return self.length\n",
    "\n",
    "    def __getitem__(self, i):\n",
    "        return self.elements[i]\n",
    "\n",
    "    def __setitem__(self, i, value):\n",
    "        self.elements[i] = value\n",
    "\n",
    "    def __delitem__(self, i):\n",
    "        del self.elements[i]\n",
    "        self.length = self.length - 1\n",
    "\n",
    "    def remove_by_index(self, i):\n",
    "        del self.elements[i]\n",
    "        self.length = self.length - 1\n"
   ]
  },
  {
   "cell_type": "code",
   "execution_count": 22,
   "metadata": {},
   "outputs": [
    {
     "name": "stdout",
     "output_type": "stream",
     "text": [
      "3\n",
      "4\n"
     ]
    }
   ],
   "source": [
    "my_list = SequenceList(100, [1,2,3,4,5])\n",
    "print(my_list[2])\n",
    "#del my_list[2]\n",
    "my_list.remove_by_index(2)\n",
    "print(my_list[2])"
   ]
  },
  {
   "cell_type": "markdown",
   "metadata": {},
   "source": [
    "### 初始化\n",
    "\n",
    "self.elements = [0]*max_size\n",
    "\n",
    "### 增加插入、删除等操作"
   ]
  },
  {
   "cell_type": "code",
   "execution_count": 27,
   "metadata": {},
   "outputs": [],
   "source": [
    "class SequenceList:\n",
    "    def __init__(self, max_size, elements):\n",
    "        self.max_size = max_size\n",
    "        self.length = len(elements)\n",
    "        self.elements = [0]*max_size\n",
    "        for idx, value in enumerate(elements):\n",
    "            self.elements[idx] = value\n",
    "\n",
    "    def is_empty(self):\n",
    "        return self.length == 0\n",
    "\n",
    "    def __len__(self):\n",
    "        return self.length\n",
    "\n",
    "    def __getitem__(self, i):\n",
    "        return self.elements[i]\n",
    "\n",
    "    def __setitem__(self, i, value):\n",
    "        self.elements[i] = value\n",
    "\n",
    "    def __delitem__(self, i):\n",
    "        del self.elements[i]\n",
    "        self.length = self.length - 1\n",
    "\n",
    "    def remove_by_index(self, i):\n",
    "        del self.elements[i]\n",
    "        self.length = self.length - 1    \n",
    "\n",
    "    def insert(self, index, e):\n",
    "        if self.length == self.max_size:\n",
    "            print('顺序表已满！')\n",
    "            return False\n",
    "\n",
    "        if index < 0 or index > self.length:\n",
    "            print('参数错误！')\n",
    "            return False\n",
    "\n",
    "        for i in range(self.length, index, -1):\n",
    "            self.elements[i] = self.elements[i-1]\n",
    "        \n",
    "        self.elements[index] = e\n",
    "        self.length = self.length + 1\n",
    "        return True\n",
    "\n",
    "    def remove(self, index):\n",
    "        if index<0 or index>=self.length:\n",
    "            return False\n",
    "        if self.length == 0:\n",
    "            return False\n",
    "        for i in range(index, self.length):\n",
    "            self.elements[i] = self.elements[i+1]\n",
    "        self.length = self.length - 1\n"
   ]
  },
  {
   "cell_type": "code",
   "execution_count": 28,
   "metadata": {},
   "outputs": [
    {
     "name": "stdout",
     "output_type": "stream",
     "text": [
      "3\n",
      "100\n",
      "3\n"
     ]
    }
   ],
   "source": [
    "my_list = SequenceList(100, [1,2,3,4,5])\n",
    "print(my_list[2])\n",
    "my_list.insert(2, 100)\n",
    "print(my_list[2])\n",
    "\n",
    "# 删除位置2的元素\n",
    "my_list.remove(2)\n",
    "print(my_list[2])\n"
   ]
  },
  {
   "cell_type": "markdown",
   "metadata": {},
   "source": [
    "## 链表"
   ]
  },
  {
   "cell_type": "code",
   "execution_count": 2,
   "metadata": {},
   "outputs": [
    {
     "name": "stdout",
     "output_type": "stream",
     "text": [
      "3\n",
      "3\n"
     ]
    }
   ],
   "source": [
    "class Node:\n",
    "    def __init__(self, data, next=None):\n",
    "        self.data = data\n",
    "        self.next = next\n",
    "\n",
    "\n",
    "first = Node(1, Node(2, Node(3)))\n",
    "print(first.next.next.data)\n",
    "\n",
    "size = 0\n",
    "p = first\n",
    "while p != None:\n",
    "    p = p.next\n",
    "    size = size + 1\n",
    "\n",
    "print(size)    "
   ]
  },
  {
   "cell_type": "markdown",
   "metadata": {},
   "source": [
    "### 求带有头节点的链表长度"
   ]
  },
  {
   "cell_type": "code",
   "execution_count": 3,
   "metadata": {},
   "outputs": [
    {
     "name": "stdout",
     "output_type": "stream",
     "text": [
      "2\n"
     ]
    }
   ],
   "source": [
    "class Node:\n",
    "    def __init__(self, data, next=None):\n",
    "        self.data = data\n",
    "        self.next = next\n",
    "\n",
    "def get_length(hp):\n",
    "    p = hp.next\n",
    "    len = 0\n",
    "    while(p!=None):\n",
    "        p = p.next\n",
    "        len = len + 1\n",
    "    return len\n",
    "\n",
    "hp = Node(None, Node(45, Node(25)))\n",
    "print(get_length(hp))    "
   ]
  },
  {
   "cell_type": "markdown",
   "metadata": {},
   "source": [
    "## 双向链表"
   ]
  },
  {
   "cell_type": "code",
   "execution_count": 1,
   "metadata": {},
   "outputs": [],
   "source": [
    "class Node:\n",
    "    def __init__(self, next=None, prev=None, data=None):\n",
    "         \n",
    "        # reference to next node in DLL\n",
    "        self.next = next\n",
    "         \n",
    "        # reference to previous node in DLL\n",
    "        self.prev = prev\n",
    "        self.data = data"
   ]
  },
  {
   "cell_type": "markdown",
   "metadata": {},
   "source": [
    "## Joseph问题\n",
    "\n",
    "### 利用带有头节点的单项循环链表实现\n"
   ]
  },
  {
   "cell_type": "code",
   "execution_count": 9,
   "metadata": {},
   "outputs": [
    {
     "name": "stdout",
     "output_type": "stream",
     "text": [
      "-----出局者：5-----\n",
      "-----出局者：1-----\n",
      "-----出局者：7-----\n",
      "-----出局者：4-----\n",
      "-----出局者：3-----\n",
      "-----出局者：6-----\n",
      "-----出局者：9-----\n",
      "-----出局者：2-----\n",
      "-----出局者：8-----\n"
     ]
    }
   ],
   "source": [
    "class Node:\n",
    "    def __init__(self, data, next=None):\n",
    "        self.data = data\n",
    "        self.next = next\n",
    "\n",
    "class LinkedList:\n",
    "    def __init__(self):\n",
    "        self.head = Node('HEAD')\n",
    "        self.head.next = self.head\n",
    "\n",
    "    def insert(self, data):\n",
    "        \"\"\"\n",
    "        在链表的末尾插入新节点，节点的数据为data\n",
    "        \"\"\"\n",
    "        p = self.head\n",
    "        # 找到最后一个节点\n",
    "        while(p.next != self.head):\n",
    "            p = p.next\n",
    "        # 插入新节点，并赋值给最后一个节点p\n",
    "        p.next = Node(data, self.head)\n",
    "        \n",
    "    def remove_next(self, prev):\n",
    "        \"\"\"\n",
    "        删除prev的下一个节点,并返回该删除节点的值\n",
    "        \"\"\"\n",
    "        if prev.next == self.head:\n",
    "            prev = self.head\n",
    "\n",
    "        data = prev.next.data\n",
    "        prev.next = prev.next.next\n",
    "        return data\n",
    "\n",
    "    def get_next(self, prev, skip_head=True):\n",
    "        if skip_head and prev.next == self.head:\n",
    "            return self.head.next\n",
    "        else:\n",
    "            return prev.next\n",
    "\n",
    "    def is_empty(self):\n",
    "        return self.head.next == self.head\n",
    "\n",
    "\n",
    "def joseph(num_people, start, dead_num):\n",
    "    \"\"\"\n",
    "    解决约瑟夫环的问题，共有num_people个人，从第start个人开始报数，每次数到dead_num时，该人出局\n",
    "    \"\"\"\n",
    "    circle = LinkedList()\n",
    "    # 把人放入链表\n",
    "    for i in range(num_people):\n",
    "        circle.insert(i+1)\n",
    "\n",
    "    # 记录上一个报数的人\n",
    "    prev_people = circle.head\n",
    "\n",
    "    # 跳start-1个， 下一个位置才开始报数\n",
    "    for i in range(start-1):\n",
    "        prev_people = prev_people.next\n",
    "\n",
    "    while not circle.is_empty():\n",
    "        # 开始报数, current到最后一个人的上一个就停止\n",
    "        for i in range(dead_num-1):\n",
    "            current = circle.get_next(prev_people)\n",
    "            # print(f'PEOPLE {current.data}\\t报数：{i+1}')\n",
    "            prev_people = current\n",
    "\n",
    "        # 下一个人应该继续报数，并出局\n",
    "        dead_people = circle.remove_next(prev_people)\n",
    "        # print(f'PEOPLE {dead_people}\\t报数：{dead_num}')\n",
    "\n",
    "        print(f'-----出局者：{dead_people}-----')\n",
    "\n",
    "\n",
    "joseph(9, 1, 5)        \n"
   ]
  },
  {
   "cell_type": "markdown",
   "metadata": {},
   "source": [
    "## Stack\n",
    "\n",
    "### 栈与递归"
   ]
  },
  {
   "cell_type": "code",
   "execution_count": 3,
   "metadata": {},
   "outputs": [
    {
     "name": "stdout",
     "output_type": "stream",
     "text": [
      "120\n"
     ]
    }
   ],
   "source": [
    "from dis import dis\n",
    "\n",
    "\n",
    "def factorial(n):\n",
    "    total  =1\n",
    "    for i in range(1, n+1):\n",
    "        total = total * i\n",
    "    return total\n",
    "\n",
    "def factorial2(n):\n",
    "    if n==1:\n",
    "        return 1\n",
    "    else:\n",
    "        return n*factorial2(n-1)\n"
   ]
  },
  {
   "cell_type": "code",
   "execution_count": 4,
   "metadata": {},
   "outputs": [
    {
     "name": "stdout",
     "output_type": "stream",
     "text": [
      "1023\n"
     ]
    }
   ],
   "source": [
    "def hannoi(disk_num, x, y, z):\n",
    "    if disk_num == 1:\n",
    "        #print(f'move {disk_num} from {x} to {z}')\n",
    "        return 1\n",
    "    else:\n",
    "        c1 = hannoi(disk_num-1, x, z, y)\n",
    "        #print(f'move {disk_num} from {x} to {z}')\n",
    "        c2 = hannoi(disk_num-1, y, x, z)\n",
    "        return c1 + 1 + c2\n",
    "    \n",
    "move_num = hannoi(20, 'x', 'y', 'z')\n",
    "print(move_num)"
   ]
  }
 ],
 "metadata": {
  "kernelspec": {
   "display_name": "Python 3.9.7 ('base')",
   "language": "python",
   "name": "python3"
  },
  "language_info": {
   "codemirror_mode": {
    "name": "ipython",
    "version": 3
   },
   "file_extension": ".py",
   "mimetype": "text/x-python",
   "name": "python",
   "nbconvert_exporter": "python",
   "pygments_lexer": "ipython3",
   "version": "3.9.7"
  },
  "orig_nbformat": 4,
  "vscode": {
   "interpreter": {
    "hash": "0522cd5858c5bd2e4c4a96d21fc2e8028e73501cd21401bf0eb36d0fd38ecacc"
   }
  }
 },
 "nbformat": 4,
 "nbformat_minor": 2
}
