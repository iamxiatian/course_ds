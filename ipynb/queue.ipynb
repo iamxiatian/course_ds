{
 "cells": [
  {
   "cell_type": "markdown",
   "metadata": {},
   "source": [
    "# 队\n",
    "\n",
    "## 循环队列"
   ]
  },
  {
   "cell_type": "code",
   "execution_count": 32,
   "metadata": {},
   "outputs": [],
   "source": [
    "class SeqQueue:\n",
    "    def __init__(self, max_size=10):\n",
    "        self.max_size = max_size + 1 # 实际多放一个空间，区分对空、队满\n",
    "        self.front = 0\n",
    "        self.rear = 0\n",
    "        self.elements = [None]*max_size\n",
    "\n",
    "    def enqueue(self, element) -> bool:\n",
    "        if (self.rear + 1) % self.max_size == self.front:\n",
    "            print('Queue is Full!')\n",
    "            return False\n",
    "        else:\n",
    "            self.elements[self.rear] = element\n",
    "            self.rear = (self.rear + 1) % self.max_size\n",
    "            return True\n",
    "\n",
    "    def dequeue(self):\n",
    "        if self.front == self.rear:\n",
    "            print('Queue is Empty!')\n",
    "            return None\n",
    "        else:\n",
    "            e = self.elements[self.front]\n",
    "            self.front = (self.front + 1) % self.max_size\n",
    "            return e\n"
   ]
  },
  {
   "cell_type": "code",
   "execution_count": 35,
   "metadata": {},
   "outputs": [
    {
     "name": "stdout",
     "output_type": "stream",
     "text": [
      "0,1,2,3,4,5,6,7,8,9,"
     ]
    }
   ],
   "source": [
    "q = SeqQueue(10)\n",
    "for i in range(10):\n",
    "    q.enqueue(i)\n",
    "\n",
    "for i in range(10):\n",
    "    print(q.dequeue(), end=',')"
   ]
  },
  {
   "cell_type": "markdown",
   "metadata": {},
   "source": [
    "## 基于队列求解迷宫问题"
   ]
  },
  {
   "cell_type": "code",
   "execution_count": 2,
   "metadata": {},
   "outputs": [
    {
     "name": "stdout",
     "output_type": "stream",
     "text": [
      "[(1, 1, 0), (2, 1, 0), (3, 1, 0), (4, 1, 0), (5, 1, 0), (6, 1, 0), (6, 2, 0), (6, 3, 0), (6, 4, 0), (6, 5, 0), (6, 6, 0), (7, 6, 0), (7, 7, 0), (7, 8, 0), (8, 8, 0)]\n"
     ]
    }
   ],
   "source": [
    "class QueueNode:\n",
    "    def __init__(self, element, next=None):\n",
    "        self.element = element\n",
    "        self.next = next\n",
    "\n",
    "class Queue:\n",
    "    def __init__(self):\n",
    "        self.front = QueueNode('Head')\n",
    "        self.rear = self.front\n",
    "\n",
    "    def enqueue(self, e):\n",
    "        self.rear.next = QueueNode(e)\n",
    "        self.rear = self.rear.next\n",
    "\n",
    "    def empty(self):\n",
    "        return self.front == self.rear\n",
    "\n",
    "    def dequeue(self):\n",
    "        if self.empty():\n",
    "            return None\n",
    "        else:\n",
    "            e = self.front.next.element\n",
    "            self.front.next = self.front.next.next\n",
    "            if self.front.next == None:\n",
    "                self.rear = self.front\n",
    "            return e\n",
    "\n",
    "class MazeCell:\n",
    "    def __init__(self, x, y, wall = False, visited = False, from_cell = None):\n",
    "        self.x = x\n",
    "        self.y = y\n",
    "        self.wall = wall\n",
    "        self.visited = visited\n",
    "        self.from_cell = from_cell\n",
    "\n",
    "    def __repr__(self):\n",
    "        value = 1 if self.wall else 0\n",
    "        return f'({self.x}, {self.y}, {value})'\n",
    "\n",
    "maze_array = [\n",
    "    [1, 1, 1, 1, 1, 1, 1, 1, 1, 1],\n",
    "    [1, 0, 1, 0, 1, 0, 0, 0, 0, 1],\n",
    "    [1, 0, 1, 0, 1, 0, 0, 0, 0, 1],\n",
    "    [1, 0, 1, 0, 1, 1, 1, 1, 0, 1],\n",
    "    [1, 0, 1, 0, 0, 0, 0, 1, 0, 1],\n",
    "    [1, 0, 1, 0, 0, 0, 0, 1, 0, 1],\n",
    "    [1, 0, 0, 0, 0, 0, 0, 1, 0, 1],\n",
    "    [1, 0, 1, 0, 0, 0, 0, 0, 0, 1],\n",
    "    [1, 0, 1, 0, 0, 0, 0, 0, 0, 1],\n",
    "    [1, 1, 1, 1, 1, 1, 1, 1, 1, 1],\n",
    "]\n",
    "\n",
    "maze = [ [MazeCell(x, y, value==1) for y, value in enumerate(row)] for x, row in enumerate(maze_array) ]\n",
    "start = maze[1][1]\n",
    "out = maze[8][8]\n",
    "\n",
    "q = Queue()\n",
    "q.enqueue(start)\n",
    "\n",
    "\n",
    "while not q.empty() and not out.visited:\n",
    "    # 如果是出口，则结束循环\n",
    "    current:MazeCell = q.dequeue()\n",
    "    current.visited = True\n",
    "    if current == out:\n",
    "        break\n",
    "\n",
    "    # 把上下左右四个位置，非墙的情况，放入队列进行探索\n",
    "    x, y = current.x, current.y\n",
    "    if(not maze[x][y-1].wall and not maze[x][y-1].visited):\n",
    "        maze[x][y-1].from_cell = current\n",
    "        q.enqueue(maze[x][y-1])\n",
    "        \n",
    "    if(not maze[x+1][y].wall and not maze[x+1][y].visited):\n",
    "        maze[x+1][y].from_cell  = current\n",
    "        q.enqueue(maze[x+1][y])\n",
    "\n",
    "    if(not maze[x][y+1].wall and not maze[x][y+1].visited):\n",
    "        maze[x][y+1].from_cell  = current\n",
    "        q.enqueue(maze[x][y+1])\n",
    "\n",
    "    if(not maze[x-1][y].wall and not maze[x-1][y].visited):\n",
    "        maze[x-1][y].from_cell  = current\n",
    "        q.enqueue(maze[x-1][y])\n",
    "\n",
    "path = []\n",
    "p = out\n",
    "while p != None:\n",
    "    path.append(p)\n",
    "    p = p.from_cell\n",
    "path = path[::-1]\n",
    "#locations.reverse()\n",
    "print(path)"
   ]
  },
  {
   "cell_type": "code",
   "execution_count": 3,
   "metadata": {},
   "outputs": [
    {
     "data": {
      "image/png": "[encoded data removed]",
      "text/plain": [
       "<Figure size 360x360 with 1 Axes>"
      ]
     },
     "metadata": {
      "needs_background": "light"
     },
     "output_type": "display_data"
    }
   ],
   "source": [
    "import matplotlib.pyplot as plt\n",
    "from matplotlib.patches import Rectangle\n",
    "fig, ax = plt.subplots()\n",
    "fig.set_size_inches(5,5) # 设置每个大小实际占据的尺寸\n",
    "plt.xlim([0, 10])\n",
    "plt.ylim([0, 10])\n",
    "ax.axis('off')\n",
    "\n",
    "def draw_cell(x, y, wall = False):\n",
    "    fc = 'black' if wall else 'white'\n",
    "    ax.add_patch(Rectangle((y, 9-x), 1, 1,\n",
    "            edgecolor = 'pink',\n",
    "            facecolor = fc))\n",
    "\n",
    "def draw_visited(x, y, step):\n",
    "    ax.text(y+0.4, 9-x+0.2, str(step))\n",
    "\n",
    "# 绘制迷宫\n",
    "for row in maze:\n",
    "   for cell in row:\n",
    "       draw_cell(cell.x, cell.y, cell.wall)\n",
    "\n",
    "# 标记找到的路径\n",
    "for idx, cell in enumerate(path):\n",
    "    draw_visited(cell.x, cell.y, idx+1)       \n",
    "\n",
    "plt.show()        \n"
   ]
  }
 ],
 "metadata": {
  "kernelspec": {
   "display_name": "Python 3.9.7 ('base')",
   "language": "python",
   "name": "python3"
  },
  "language_info": {
   "codemirror_mode": {
    "name": "ipython",
    "version": 3
   },
   "file_extension": ".py",
   "mimetype": "text/x-python",
   "name": "python",
   "nbconvert_exporter": "python",
   "pygments_lexer": "ipython3",
   "version": "3.9.7"
  },
  "orig_nbformat": 4,
  "vscode": {
   "interpreter": {
    "hash": "0522cd5858c5bd2e4c4a96d21fc2e8028e73501cd21401bf0eb36d0fd38ecacc"
   }
  }
 },
 "nbformat": 4,
 "nbformat_minor": 2
}
