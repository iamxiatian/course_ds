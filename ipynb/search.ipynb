{
 "cells": [
  {
   "cell_type": "markdown",
   "metadata": {},
   "source": [
    "## 查找\n",
    "\n",
    "## 数据准备"
   ]
  },
  {
   "cell_type": "code",
   "execution_count": 7,
   "metadata": {},
   "outputs": [
    {
     "name": "stdout",
     "output_type": "stream",
     "text": [
      "Looking in indexes: https://mirrors.aliyun.com/pypi/simple/\n",
      "Requirement already satisfied: numpy in /Users/xiatian/miniconda3/envs/IIR/lib/python3.10/site-packages (2.1.3)\n",
      "Looking in indexes: https://mirrors.aliyun.com/pypi/simple/\n",
      "Collecting matplotlib\n",
      "  Downloading https://mirrors.aliyun.com/pypi/packages/41/81/cc70b5138c926604e8c9ed810ed4c79e8116ba72e02230852f5c12c87ba2/matplotlib-3.10.3-cp310-cp310-macosx_11_0_arm64.whl (8.0 MB)\n",
      "\u001b[2K     \u001b[38;2;114;156;31m━━━━━━━━━━━━━━━━━━━━━━━━━━━━━━━━━━━━━━━━\u001b[0m \u001b[32m8.0/8.0 MB\u001b[0m \u001b[31m12.8 MB/s\u001b[0m eta \u001b[36m0:00:00\u001b[0m[36m0:00:01\u001b[0mm eta \u001b[36m0:00:01\u001b[0m\n",
      "\u001b[?25hCollecting contourpy>=1.0.1 (from matplotlib)\n",
      "  Downloading https://mirrors.aliyun.com/pypi/packages/2f/6c/330de89ae1087eb622bfca0177d32a7ece50c3ef07b28002de4757d9d875/contourpy-1.3.2-cp310-cp310-macosx_11_0_arm64.whl (253 kB)\n",
      "Collecting cycler>=0.10 (from matplotlib)\n",
      "  Downloading https://mirrors.aliyun.com/pypi/packages/e7/05/c19819d5e3d95294a6f5947fb9b9629efb316b96de511b418c53d245aae6/cycler-0.12.1-py3-none-any.whl (8.3 kB)\n",
      "Collecting fonttools>=4.22.0 (from matplotlib)\n",
      "  Downloading https://mirrors.aliyun.com/pypi/packages/72/07/06d01b7239d6632a0984ef29ab496928531862b827cd3aa78309b205850d/fonttools-4.58.0-cp310-cp310-macosx_10_9_universal2.whl (2.7 MB)\n",
      "\u001b[2K     \u001b[38;2;114;156;31m━━━━━━━━━━━━━━━━━━━━━━━━━━━━━━━━━━━━━━━━\u001b[0m \u001b[32m2.7/2.7 MB\u001b[0m \u001b[31m11.7 MB/s\u001b[0m eta \u001b[36m0:00:00\u001b[0m31m12.4 MB/s\u001b[0m eta \u001b[36m0:00:01\u001b[0m\n",
      "\u001b[?25hCollecting kiwisolver>=1.3.1 (from matplotlib)\n",
      "  Downloading https://mirrors.aliyun.com/pypi/packages/c6/13/e15f804a142353aefd089fadc8f1d985561a15358c97aca27b0979cb0785/kiwisolver-1.4.8-cp310-cp310-macosx_11_0_arm64.whl (65 kB)\n",
      "Requirement already satisfied: numpy>=1.23 in /Users/xiatian/miniconda3/envs/IIR/lib/python3.10/site-packages (from matplotlib) (2.1.3)\n",
      "Requirement already satisfied: packaging>=20.0 in /Users/xiatian/miniconda3/envs/IIR/lib/python3.10/site-packages (from matplotlib) (24.2)\n",
      "Requirement already satisfied: pillow>=8 in /Users/xiatian/miniconda3/envs/IIR/lib/python3.10/site-packages (from matplotlib) (11.1.0)\n",
      "Collecting pyparsing>=2.3.1 (from matplotlib)\n",
      "  Downloading https://mirrors.aliyun.com/pypi/packages/05/e7/df2285f3d08fee213f2d041540fa4fc9ca6c2d44cf36d3a035bf2a8d2bcc/pyparsing-3.2.3-py3-none-any.whl (111 kB)\n",
      "Requirement already satisfied: python-dateutil>=2.7 in /Users/xiatian/miniconda3/envs/IIR/lib/python3.10/site-packages (from matplotlib) (2.9.0.post0)\n",
      "Requirement already satisfied: six>=1.5 in /Users/xiatian/miniconda3/envs/IIR/lib/python3.10/site-packages (from python-dateutil>=2.7->matplotlib) (1.17.0)\n",
      "Installing collected packages: pyparsing, kiwisolver, fonttools, cycler, contourpy, matplotlib\n",
      "Successfully installed contourpy-1.3.2 cycler-0.12.1 fonttools-4.58.0 kiwisolver-1.4.8 matplotlib-3.10.3 pyparsing-3.2.3\n"
     ]
    }
   ],
   "source": [
    "!pip install numpy\n",
    "!pip install matplotlib"
   ]
  },
  {
   "cell_type": "markdown",
   "metadata": {},
   "source": [
    "可以利用numpy方便生成伪随机数，为保证随机数结果每次一致，设置固定的随机数种子。\n",
    "\n",
    "```python\n",
    "import numpy as np\n",
    "np.random.seed(0)\n",
    "```\n",
    "\n",
    "numpy提供了很多生成伪随机数的方法，如：\n",
    "- `np.random.rand(d0, d1, ..., dn)`：生成[0, 1)之间的浮点数，参数为数组的维度。\n",
    "- `np.random.randn(d0, d1, ..., dn)`：生成标准正态分布的浮点数，参数为数组的维度。\n",
    "- `np.random.randint(low[, high, size, dtype])`：生成随机整数，参数为：\n",
    "  - `low`：生成的数值最低为`low`。\n",
    "  - `high`：生成的数值最高为`high`。\n",
    "  - `size`：数组的维度。\n",
    "  - `dtype`：数据类型，默认为`int64`，即由64个比特表示的数字。\n",
    "  \n",
    "下面采用`np.random.randint`生成10000个随机整数，范围在[0, 100000)之间。"
   ]
  },
  {
   "cell_type": "code",
   "execution_count": 23,
   "metadata": {},
   "outputs": [
    {
     "name": "stdout",
     "output_type": "stream",
     "text": [
      "数据类型： <class 'numpy.ndarray'>\n",
      "生成数字的第一个数字： 68268\n",
      "生成的第一个数字的数据类型： <class 'numpy.ndarray'>\n",
      "生成的第一个数字的数据类型： <class 'numpy.int32'>\n"
     ]
    }
   ],
   "source": [
    "import numpy as np\n",
    "\n",
    "np.random.seed(0)\n",
    "elements = np.random.randint(low=0, high=100000, size=100000, dtype=np.int32)\n",
    "print(\"数据类型：\", type(elements))\n",
    "\n",
    "first_number = elements[0]\n",
    "print(\"生成数字的第一个数字：\", first_number)\n",
    "print(\"生成的第一个数字的数据类型：\", type(elements))\n",
    "print(\"生成的第一个数字的数据类型：\", type(first_number))"
   ]
  },
  {
   "cell_type": "markdown",
   "metadata": {},
   "source": [
    "我们可以通过matplotlib库来绘制numpy生成的随机数列表。matplotlib是一个Python的绘图库，它可以绘制各种类型的图表，包括折线图、散点图、柱状图等。\n",
    "下面采用matplotlib提供的`hist`函数绘制直方图，`hist`函数可以将数据分成若干个区间，并统计每个区间内的数据个数，然后将这些数据绘制成直方图。"
   ]
  },
  {
   "cell_type": "code",
   "execution_count": 24,
   "metadata": {},
   "outputs": [
    {
     "data": {
      "image/png": "[encoded data removed]",
      "text/plain": [
       "<Figure size 640x480 with 1 Axes>"
      ]
     },
     "metadata": {},
     "output_type": "display_data"
    }
   ],
   "source": [
    "import matplotlib.pyplot as plt\n",
    "\n",
    "plt.hist(elements, bins=100)\n",
    "plt.show()"
   ]
  },
  {
   "cell_type": "markdown",
   "metadata": {},
   "source": [
    "由于是均匀分布，每个区间内数值的个数大致相同，从上面的图形可以看出，数据的分布是基本均匀的。"
   ]
  },
  {
   "cell_type": "markdown",
   "metadata": {},
   "source": [
    "`np.random.randint`生成的数据类型为`numpy.ndarray`，表示是一个数组，我们可以将其转换为Python默认的列表，方便按照标准的Python代码，编写和测试查找相关的算法。"
   ]
  },
  {
   "cell_type": "code",
   "execution_count": 25,
   "metadata": {},
   "outputs": [],
   "source": [
    "elements = elements.tolist()"
   ]
  },
  {
   "cell_type": "markdown",
   "metadata": {},
   "source": [
    "### 顺序查找\n",
    "\n",
    "以下是最简单的顺序查找算法："
   ]
  },
  {
   "cell_type": "code",
   "execution_count": 27,
   "metadata": {},
   "outputs": [],
   "source": [
    "def search(elements, target):\n",
    "    \"\"\"从列表elements中寻找出现target的位置，如果找到，返回下标，如果没有，返回None\n",
    "\n",
    "    Args:\n",
    "        elements (list[int]): 待查找元素的查找表\n",
    "        target (int): 待查找的元素\n",
    "    \"\"\"\n",
    "    for idx, element in enumerate(elements):\n",
    "        if element == target:\n",
    "            return idx\n",
    "\n",
    "    return None"
   ]
  },
  {
   "cell_type": "markdown",
   "metadata": {},
   "source": [
    "以下是使用哨兵机制的查找算法的实现："
   ]
  },
  {
   "cell_type": "code",
   "execution_count": 28,
   "metadata": {},
   "outputs": [],
   "source": [
    "def search_with_sentinel(elements, target):\n",
    "    \"\"\"使用哨兵机制从列表 elements 中寻找目标元素 target 的位置。\n",
    "    如果找到，返回其在原列表中的下标；如果未找到，返回 None。\n",
    "\n",
    "    此函数通过在列表末尾添加目标元素作为哨兵，简化查找过程，避免每次循环都检查是否越界。\n",
    "\n",
    "    Args:\n",
    "        elements (list[int]): 待查找元素的列表。该列表会在函数执行过程中被修改，末尾会添加目标元素。\n",
    "        target (int): 待查找的目标元素。\n",
    "\n",
    "    Returns:\n",
    "        int | None: 若目标元素在原列表中，返回其下标；若不在，返回 None。\n",
    "    \"\"\"\n",
    "    # 初始化索引为 0，从列表第一个元素开始查找\n",
    "    idx = 0\n",
    "    # 在列表末尾添加目标元素作为哨兵，这样可以简化循环条件判断\n",
    "    elements.append(target)  # 哨兵\n",
    "    # 循环遍历列表，直到找到目标元素\n",
    "    while elements[idx] != target:\n",
    "        # 索引加 1，移动到下一个元素\n",
    "        idx = idx + 1\n",
    "\n",
    "    # 判断找到的目标元素是否是原列表中的，还是添加的哨兵\n",
    "    if idx == len(elements) - 1:\n",
    "        # 若是哨兵位置，说明原列表中不存在目标元素，返回 None\n",
    "        return None\n",
    "    else:\n",
    "        # 若不是哨兵位置，说明在原列表中找到了目标元素，返回其下标\n",
    "        return idx"
   ]
  },
  {
   "cell_type": "markdown",
   "metadata": {},
   "source": [
    "带有哨兵机制的顺序查找算法能够节省比较时间。当查找的元素不在列表中时，该算法可避免大量无效比对，相较于单纯的顺序查找，能获得更高的效率。因此，我们可以选取一个不在列表中的数值，例如 -1，通过以下代码来对比简单查找算法与带有哨兵机制算法的速度差异。"
   ]
  },
  {
   "cell_type": "code",
   "execution_count": 34,
   "metadata": {},
   "outputs": [
    {
     "name": "stdout",
     "output_type": "stream",
     "text": [
      "顺序查找元素-1共花费时间: 0.003519 seconds\n",
      "带哨兵机制的算法查找元素5000共花费时间: 0.000105 seconds\n"
     ]
    }
   ],
   "source": [
    "import time\n",
    "\n",
    "target = -1\n",
    "start_time = time.time()\n",
    "search(elements, target)\n",
    "end_time = time.time() - start_time\n",
    "print(f\"顺序查找元素{target}共花费时间: {end_time:.6f} seconds\")\n",
    "start_time = time.time()\n",
    "target = 5000\n",
    "search(elements, target)\n",
    "end_time = time.time() - start_time\n",
    "print(f\"带哨兵机制的算法查找元素{target}共花费时间: {end_time:.6f} seconds\")"
   ]
  },
  {
   "cell_type": "markdown",
   "metadata": {},
   "source": [
    "## 二分查找"
   ]
  },
  {
   "cell_type": "code",
   "execution_count": 37,
   "metadata": {},
   "outputs": [],
   "source": [
    "def binary_search(elements, target):\n",
    "    \"\"\"\n",
    "    使用二分查找算法在有序列表中查找目标元素的索引。\n",
    "\n",
    "    二分查找要求输入的列表 elements 必须是有序的，它通过不断将搜索区间缩小一半，\n",
    "    直到找到目标元素或确定目标元素不存在。\n",
    "\n",
    "    Args:\n",
    "        elements (list): 一个有序的列表，包含待搜索的元素。\n",
    "        target: 要在列表中查找的目标元素。\n",
    "\n",
    "    Returns:\n",
    "        int | None: 如果找到目标元素，返回其在列表中的索引；如果未找到，返回 None。\n",
    "    \"\"\"\n",
    "    # 初始化搜索区间的左边界，从列表的第一个元素开始\n",
    "    low = 0\n",
    "    # 初始化搜索区间的右边界，为列表的最后一个元素的索引\n",
    "    high = len(elements) - 1\n",
    "    # 当左边界小于等于右边界时，继续搜索\n",
    "    while low <= high:\n",
    "        # 计算当前搜索区间的中间位置\n",
    "        mid = (low + high) // 2\n",
    "        # 如果中间位置的元素等于目标元素，返回中间位置的索引\n",
    "        if elements[mid] == target:\n",
    "            return mid\n",
    "        # 如果中间位置的元素大于目标元素，说明目标元素在左半部分，更新右边界\n",
    "        elif elements[mid] > target:\n",
    "            high = mid - 1\n",
    "        # 如果中间位置的元素小于目标元素，说明目标元素在右半部分，更新左边界\n",
    "        else:\n",
    "            low = mid + 1\n",
    "\n",
    "    # 若循环结束仍未找到目标元素，返回 None\n",
    "    return None"
   ]
  },
  {
   "cell_type": "markdown",
   "metadata": {},
   "source": [
    "Python 3.x中，整除的运算符为“//”，即 5 // 2 = 2,而其他语言中常用的 “/”,Python会将数字转换为浮点数进行运算，因此： 5/2=2.5"
   ]
  },
  {
   "cell_type": "code",
   "execution_count": 38,
   "metadata": {},
   "outputs": [
    {
     "name": "stdout",
     "output_type": "stream",
     "text": [
      "2\n",
      "2.5\n"
     ]
    }
   ],
   "source": [
    "print(5 // 2)\n",
    "print(5 / 2)"
   ]
  },
  {
   "cell_type": "markdown",
   "metadata": {},
   "source": [
    "比较顺序查找和二分查找的速度差异"
   ]
  },
  {
   "cell_type": "code",
   "execution_count": 39,
   "metadata": {},
   "outputs": [
    {
     "name": "stdout",
     "output_type": "stream",
     "text": [
      "0.0019876956939697266\n",
      "4.887580871582031e-05\n"
     ]
    }
   ],
   "source": [
    "import time\n",
    "\n",
    "# 数据排序后，再来比较时间\n",
    "elements = np.random.randint(low=0, high=200000, size=100000).tolist()\n",
    "sorted_elements = sorted(elements)\n",
    "target = 100000\n",
    "\n",
    "start = time.time()\n",
    "search(sorted_elements, target)\n",
    "print(time.time() - start)\n",
    "\n",
    "start = time.time()\n",
    "binary_search(sorted_elements, target)\n",
    "print(time.time() - start)"
   ]
  },
  {
   "cell_type": "markdown",
   "metadata": {},
   "source": [
    "### 二叉查找树\n",
    "二叉排序树 (Binary Sort Tree) 或者是一棵空树; 或者是具有下列性质的二叉树:\n",
    "\n",
    "1. 若左子树不空, 则左子树上所有结点的值均小于根结点的值; 若右子树不空, 则右子树上所有结点的值均大于根结点的值。\n",
    "\n",
    "2. 左右子树也都是二叉排序树。对二叉排序树进行中序遍历, 可以得到一个按关键码有序的序列, 因此, 一个无序序列可通过构造二叉排序树而成为有序序列。"
   ]
  },
  {
   "cell_type": "code",
   "execution_count": null,
   "metadata": {},
   "outputs": [],
   "source": [
    "class TreeNode:\n",
    "    def __init__(self, value, left=None, right=None) -> None:\n",
    "        self.value = value\n",
    "        self.left = left\n",
    "        self.right = right\n",
    "\n",
    "\n",
    "class SearchTree:\n",
    "    def __init__(self) -> None:\n",
    "        self.root = None\n",
    "\n",
    "    def search(self, data):\n",
    "        \"\"\"从当前节点开始查找data，如果没有找到，则把data插入树中，同时返回false，否则返回true\"\"\"\n",
    "        parent = self.root\n",
    "        current = self.root\n",
    "        from_left = False  # 是否来自于父节点的左分支\n",
    "        while current != None:\n",
    "            if current.value == data:\n",
    "                return True\n",
    "            elif data < current.value:\n",
    "                parent = current\n",
    "                current = current.left\n",
    "                from_left = True\n",
    "            else:\n",
    "                parent = current\n",
    "                current = current.right\n",
    "                from_left = False\n",
    "\n",
    "        if parent == None:\n",
    "            self.root = TreeNode(data)\n",
    "        elif from_left:\n",
    "            parent.left = TreeNode(data)\n",
    "        else:\n",
    "            parent.right = TreeNode(data)\n",
    "\n",
    "        return False\n",
    "\n",
    "    def inorder_traverse(self, node: TreeNode):\n",
    "        path = []\n",
    "        if node.left != None:\n",
    "            path.extend(self.inorder_traverse(node.left))\n",
    "\n",
    "        path.append(node.value)\n",
    "\n",
    "        if node.right != None:\n",
    "            path.extend(self.inorder_traverse(node.right))\n",
    "\n",
    "        return path"
   ]
  },
  {
   "cell_type": "code",
   "execution_count": null,
   "metadata": {},
   "outputs": [],
   "source": [
    "tree = SearchTree()\n",
    "\n",
    "numbers = [63, 90, 70, 55, 67, 42, 98, 83, 10, 45, 58]\n",
    "for n in numbers:\n",
    "    found = tree.search(n)\n",
    "    print(n, found)\n",
    "\n",
    "path = tree.inorder_traverse(tree.root)\n",
    "print(path)"
   ]
  },
  {
   "cell_type": "code",
   "execution_count": null,
   "metadata": {},
   "outputs": [
    {
     "name": "stdout",
     "output_type": "stream",
     "text": [
      "[1, 3, 5, 7, 9, 10]\n"
     ]
    }
   ],
   "source": [
    "x = [1, 3, 5]\n",
    "y = [7, 9, 10]\n",
    "# x.append(y)\n",
    "x.extend(y)\n",
    "print(x)"
   ]
  },
  {
   "cell_type": "markdown",
   "metadata": {},
   "source": [
    "### 哈希表\n",
    "\n",
    "对应到Python中的字典结构，Java里面的Map"
   ]
  },
  {
   "cell_type": "code",
   "execution_count": null,
   "metadata": {},
   "outputs": [
    {
     "name": "stdout",
     "output_type": "stream",
     "text": [
      "han = 18\n",
      "bai = 20\n",
      "zhang = 18\n",
      "zhao = 20\n",
      "liu = 18\n",
      "an = 20\n"
     ]
    }
   ],
   "source": [
    "# name_ages = dict()\n",
    "name_ages = {}\n",
    "name_ages[\"han\"] = 18\n",
    "name_ages[\"bai\"] = 20\n",
    "name_ages[\"zhang\"] = 18\n",
    "name_ages[\"zhao\"] = 20\n",
    "name_ages[\"liu\"] = 18\n",
    "name_ages[\"an\"] = 20\n",
    "\n",
    "for key, value in name_ages.items():\n",
    "    print(key, \"=\", value)"
   ]
  },
  {
   "cell_type": "code",
   "execution_count": null,
   "metadata": {},
   "outputs": [
    {
     "name": "stdout",
     "output_type": "stream",
     "text": [
      "an = 20\n",
      "liu = 18\n",
      "zhao = 20\n",
      "zhang = 18\n",
      "bai = 20\n",
      "han = 18\n"
     ]
    }
   ],
   "source": [
    "from collections import OrderedDict\n",
    "\n",
    "name_ages = OrderedDict()\n",
    "name_ages[\"han\"] = 18\n",
    "name_ages[\"bai\"] = 20\n",
    "name_ages[\"zhang\"] = 18\n",
    "name_ages[\"zhao\"] = 20\n",
    "name_ages[\"liu\"] = 18\n",
    "name_ages[\"an\"] = 20\n",
    "\n",
    "for key, value in reversed(name_ages.items()):\n",
    "    print(key, \"=\", value)"
   ]
  }
 ],
 "metadata": {
  "kernelspec": {
   "display_name": "IIR",
   "language": "python",
   "name": "python3"
  },
  "language_info": {
   "codemirror_mode": {
    "name": "ipython",
    "version": 3
   },
   "file_extension": ".py",
   "mimetype": "text/x-python",
   "name": "python",
   "nbconvert_exporter": "python",
   "pygments_lexer": "ipython3",
   "version": "3.10.16"
  },
  "orig_nbformat": 4
 },
 "nbformat": 4,
 "nbformat_minor": 2
}
