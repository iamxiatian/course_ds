{
 "cells": [
  {
   "cell_type": "markdown",
   "metadata": {},
   "source": [
    "## 查找\n",
    "\n",
    "## 数据准备"
   ]
  },
  {
   "cell_type": "code",
   "execution_count": 1,
   "metadata": {},
   "outputs": [
    {
     "name": "stdout",
     "output_type": "stream",
     "text": [
      "Requirement already satisfied: numpy in c:\\opt\\anaconda3\\lib\\site-packages (1.20.3)\n"
     ]
    }
   ],
   "source": [
    "!pip install numpy"
   ]
  },
  {
   "cell_type": "code",
   "execution_count": 81,
   "metadata": {},
   "outputs": [
    {
     "name": "stdout",
     "output_type": "stream",
     "text": [
      "生成数字的前十个数字： [83209, 94735, 181568, 93553, 105595, 9372, 141273, 37597, 17904, 108445]\n"
     ]
    }
   ],
   "source": [
    "import numpy as np\n",
    "\n",
    "np.random.seed(10)\n",
    "elements = np.random.randint(low=0, high=200000, size=100000).tolist()\n",
    "print('生成数字的前十个数字：', elements[:10])   "
   ]
  },
  {
   "cell_type": "code",
   "execution_count": 82,
   "metadata": {},
   "outputs": [
    {
     "data": {
      "image/png": "[encoded data removed]",
      "text/plain": [
       "<Figure size 432x288 with 1 Axes>"
      ]
     },
     "metadata": {
      "needs_background": "light"
     },
     "output_type": "display_data"
    }
   ],
   "source": [
    "import matplotlib.pyplot as plt\n",
    "\n",
    "plt.hist(elements, bins=100)\n",
    "plt.show()"
   ]
  },
  {
   "cell_type": "code",
   "execution_count": 69,
   "metadata": {},
   "outputs": [
    {
     "data": {
      "text/plain": [
       "12"
      ]
     },
     "execution_count": 69,
     "metadata": {},
     "output_type": "execute_result"
    }
   ],
   "source": [
    "len(list(filter(lambda x: x==0, elements)))"
   ]
  },
  {
   "cell_type": "markdown",
   "metadata": {},
   "source": [
    "### 顺序查找"
   ]
  },
  {
   "cell_type": "code",
   "execution_count": 83,
   "metadata": {},
   "outputs": [
    {
     "name": "stdout",
     "output_type": "stream",
     "text": [
      "None\n"
     ]
    }
   ],
   "source": [
    "def search(elements, target):\n",
    "    \"\"\"从列表elements中寻找出现target的位置，如果找到，返回下标，如果没有，返回None\n",
    "\n",
    "    Args:\n",
    "        elements (list[int]): 待查找元素的查找表\n",
    "        target (int): 待查找的元素\n",
    "    \"\"\"\n",
    "    for idx, element in enumerate(elements):\n",
    "        if element == target:\n",
    "            return idx\n",
    "        \n",
    "    return None    \n",
    "    \n",
    "    \n",
    "def search2(elements, target):\n",
    "    idx = 0\n",
    "    elements.append(target) # 哨兵\n",
    "    while elements[idx] != target:\n",
    "        idx = idx + 1\n",
    "        \n",
    "    if idx == len(elements)-1:\n",
    "        return None\n",
    "    else:\n",
    "        return idx\n",
    "        \n",
    "print(search(elements, 8))    \n",
    "\n"
   ]
  },
  {
   "cell_type": "markdown",
   "metadata": {},
   "source": [
    "## 二分查找"
   ]
  },
  {
   "cell_type": "code",
   "execution_count": 85,
   "metadata": {},
   "outputs": [],
   "source": [
    "def binary_search(elements, target):\n",
    "    low = 0\n",
    "    high = len(elements) - 1\n",
    "    while low<= high:\n",
    "        mid = (low+high) // 2 \n",
    "        if elements[mid] == target:\n",
    "            return mid\n",
    "        elif elements[mid] > target:\n",
    "            high = mid - 1\n",
    "        else:\n",
    "            low = mid + 1\n",
    "            \n",
    "    return None   "
   ]
  },
  {
   "cell_type": "markdown",
   "metadata": {},
   "source": [
    "Python 3.x中，整除的运算符为“//”，即 5 // 2 = 2,而其他语言中常用的 “/”,Python会将数字转换为浮点数进行运算，因此： 5/2=2.5"
   ]
  },
  {
   "cell_type": "code",
   "execution_count": 91,
   "metadata": {},
   "outputs": [
    {
     "name": "stdout",
     "output_type": "stream",
     "text": [
      "2\n",
      "2.5\n"
     ]
    }
   ],
   "source": [
    "print(5 // 2)\n",
    "print(5 / 2)"
   ]
  },
  {
   "cell_type": "markdown",
   "metadata": {},
   "source": [
    "比较顺序查找和二分查找的速度差异"
   ]
  },
  {
   "cell_type": "code",
   "execution_count": 93,
   "metadata": {},
   "outputs": [
    {
     "name": "stdout",
     "output_type": "stream",
     "text": [
      "0.01499176025390625\n",
      "0.0\n"
     ]
    }
   ],
   "source": [
    "import time\n",
    "\n",
    "# 数据排序后，再来比较时间\n",
    "elements = np.random.randint(low=0, high=200000, size=100000).tolist()\n",
    "data = sorted(elements)\n",
    "target = 100000\n",
    "\n",
    "start = time.time()\n",
    "search(data, target)\n",
    "print(time.time() - start)\n",
    "\n",
    "start = time.time()\n",
    "binary_search(data, target)\n",
    "print(time.time() - start)"
   ]
  },
  {
   "cell_type": "markdown",
   "metadata": {},
   "source": [
    "### 二叉查找树\n",
    "二叉排序树 (Binary Sort Tree) 或者是一棵空树; 或者是具有下列性质的二叉树:\n",
    "\n",
    "1. 若左子树不空, 则左子树上所有结点的值均小于根结点的值; 若右子树不空, 则右子树上所有结点的值均大于根结点的值。\n",
    "\n",
    "2. 左右子树也都是二叉排序树。对二叉排序树进行中序遍历, 可以得到一个按关键码有序的序列, 因此, 一个无序序列可通过构造二叉排序树而成为有序序列。"
   ]
  },
  {
   "cell_type": "code",
   "execution_count": 15,
   "metadata": {},
   "outputs": [],
   "source": [
    "class TreeNode:\n",
    "    def __init__(self, value, left=None, right=None) -> None:\n",
    "        self.value = value\n",
    "        self.left = left\n",
    "        self.right = right\n",
    "        \n",
    "class SearchTree:\n",
    "    def __init__(self) -> None:\n",
    "        self.root = None        \n",
    "    \n",
    "    \n",
    "    def search(self, data):\n",
    "        \"\"\"从当前节点开始查找data，如果没有找到，则把data插入树中，同时返回false，否则返回true\"\"\"\n",
    "        parent = self.root\n",
    "        current = self.root\n",
    "        from_left = False # 是否来自于父节点的左分支\n",
    "        while current!=None:\n",
    "            if current.value == data:\n",
    "                return True\n",
    "            elif data < current.value:\n",
    "                parent = current\n",
    "                current = current.left\n",
    "                from_left = True\n",
    "            else:\n",
    "                parent = current\n",
    "                current = current.right\n",
    "                from_left = False\n",
    "                \n",
    "        if parent == None:\n",
    "            self.root = TreeNode(data)\n",
    "        elif from_left:\n",
    "            parent.left = TreeNode(data)\n",
    "        else:\n",
    "            parent.right = TreeNode(data)\n",
    "            \n",
    "        return False\n",
    "        \n",
    "        \n",
    "    def inorder_traverse(self, node:TreeNode):\n",
    "        path = []\n",
    "        if node.left != None:\n",
    "            path.extend(self.inorder_traverse(node.left))\n",
    "        \n",
    "        path.append(node.value)\n",
    "        \n",
    "        if node.right != None:\n",
    "            path.extend(self.inorder_traverse(node.right))\n",
    "            \n",
    "        return path\n",
    "        "
   ]
  },
  {
   "cell_type": "code",
   "execution_count": null,
   "metadata": {},
   "outputs": [],
   "source": [
    "tree = SearchTree()\n",
    "\n",
    "numbers = [63, 90, 70, 55, 67, 42, 98, 83, 10, 45, 58]\n",
    "for n in numbers: \n",
    "    found = tree.search(n)\n",
    "    print(n, found)\n",
    "\n",
    "path = tree.inorder_traverse(tree.root)\n",
    "print(path)"
   ]
  },
  {
   "cell_type": "code",
   "execution_count": 25,
   "metadata": {},
   "outputs": [
    {
     "name": "stdout",
     "output_type": "stream",
     "text": [
      "[1, 3, 5, 7, 9, 10]\n"
     ]
    }
   ],
   "source": [
    "x = [1,3,5]\n",
    "y = [7,9,10]\n",
    "#x.append(y)\n",
    "x.extend(y)\n",
    "print(x)"
   ]
  },
  {
   "cell_type": "markdown",
   "metadata": {},
   "source": [
    "### 哈希表"
   ]
  },
  {
   "cell_type": "code",
   "execution_count": 19,
   "metadata": {},
   "outputs": [
    {
     "name": "stdout",
     "output_type": "stream",
     "text": [
      "han = 18\n",
      "bai = 20\n",
      "zhang = 18\n",
      "zhao = 20\n",
      "liu = 18\n",
      "an = 20\n"
     ]
    }
   ],
   "source": [
    "#name_ages = dict()\n",
    "name_ages = {}\n",
    "name_ages['han'] = 18\n",
    "name_ages['bai'] = 20\n",
    "name_ages['zhang'] = 18\n",
    "name_ages['zhao'] = 20\n",
    "name_ages['liu'] = 18\n",
    "name_ages['an'] = 20\n",
    "\n",
    "for key, value in name_ages.items():\n",
    "    print(key, '=', value)"
   ]
  },
  {
   "cell_type": "code",
   "execution_count": 21,
   "metadata": {},
   "outputs": [
    {
     "name": "stdout",
     "output_type": "stream",
     "text": [
      "an = 20\n",
      "liu = 18\n",
      "zhao = 20\n",
      "zhang = 18\n",
      "bai = 20\n",
      "han = 18\n"
     ]
    }
   ],
   "source": [
    "from collections import OrderedDict\n",
    "\n",
    "name_ages = OrderedDict()\n",
    "name_ages['han'] = 18\n",
    "name_ages['bai'] = 20\n",
    "name_ages['zhang'] = 18\n",
    "name_ages['zhao'] = 20\n",
    "name_ages['liu'] = 18\n",
    "name_ages['an'] = 20\n",
    "\n",
    "for key, value in reversed(name_ages.items()):\n",
    "    print(key, '=', value)"
   ]
  }
 ],
 "metadata": {
  "kernelspec": {
   "display_name": "Python 3.9.7 ('base')",
   "language": "python",
   "name": "python3"
  },
  "language_info": {
   "codemirror_mode": {
    "name": "ipython",
    "version": 3
   },
   "file_extension": ".py",
   "mimetype": "text/x-python",
   "name": "python",
   "nbconvert_exporter": "python",
   "pygments_lexer": "ipython3",
   "version": "3.9.7"
  },
  "orig_nbformat": 4,
  "vscode": {
   "interpreter": {
    "hash": "0522cd5858c5bd2e4c4a96d21fc2e8028e73501cd21401bf0eb36d0fd38ecacc"
   }
  }
 },
 "nbformat": 4,
 "nbformat_minor": 2
}
