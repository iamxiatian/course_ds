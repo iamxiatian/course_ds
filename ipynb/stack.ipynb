{
 "cells": [
  {
   "cell_type": "markdown",
   "metadata": {},
   "source": [
    "## 基于栈求解迷宫问题"
   ]
  },
  {
   "cell_type": "code",
   "execution_count": 29,
   "metadata": {},
   "outputs": [
    {
     "name": "stdout",
     "output_type": "stream",
     "text": [
      "[(1, 1, 0), (2, 1, 0), (3, 1, 0), (4, 1, 0), (5, 1, 0), (6, 1, 0), (6, 2, 0), (6, 3, 0), (5, 3, 0), (4, 3, 0), (4, 4, 0), (4, 5, 0), (4, 6, 0), (5, 6, 0), (6, 6, 0), (7, 6, 0), (7, 7, 0), (7, 8, 0)]\n"
     ]
    }
   ],
   "source": [
    "from enum import Enum\n",
    "\n",
    "class StackNode:\n",
    "    def __init__(self, element, next=None):\n",
    "        self.element = element\n",
    "        self.next = next\n",
    "\n",
    "class Stack:\n",
    "    def __init__(self):\n",
    "        self.top = None\n",
    "        \n",
    "    def push(self, e):\n",
    "        self.top = StackNode(e, self.top)\n",
    "\n",
    "    def empty(self):\n",
    "        return self.top == None\n",
    "\n",
    "    def pop(self):\n",
    "        if self.empty():\n",
    "            raise Exception('Empty Stack')\n",
    "        else:\n",
    "            e = self.top.element\n",
    "            self.top = self.top.next\n",
    "            return e\n",
    "\n",
    "\"\"\"\n",
    "定义方向的枚举类型，便于代码阅读\n",
    "\"\"\"\n",
    "UP = 1\n",
    "RIGHT = 2\n",
    "DOWN = 3\n",
    "LEFT = 4\n",
    "\n",
    "\n",
    "class MazeCell:\n",
    "    def __init__(self, x, y, wall = False, direction = 0, visited = False, from_cell = None):\n",
    "        self.x = x\n",
    "        self.y = y\n",
    "        self.wall = wall\n",
    "        self.direction = direction\n",
    "        self.visited = visited\n",
    "        self.from_cell = from_cell\n",
    "\n",
    "    def __repr__(self):\n",
    "        value = 1 if self.wall else 0\n",
    "        return f'({self.x}, {self.y}, {value})'\n",
    "\n",
    "maze_array = [\n",
    "    [1, 1, 1, 1, 1, 1, 1, 1, 1, 1],\n",
    "    [1, 0, 1, 0, 1, 0, 0, 0, 0, 1],\n",
    "    [1, 0, 1, 0, 1, 0, 0, 0, 0, 1],\n",
    "    [1, 0, 1, 0, 1, 1, 1, 1, 0, 1],\n",
    "    [1, 0, 1, 0, 0, 0, 0, 1, 0, 1],\n",
    "    [1, 0, 1, 0, 0, 0, 0, 1, 0, 1],\n",
    "    [1, 0, 0, 0, 0, 0, 0, 1, 0, 1],\n",
    "    [1, 0, 1, 0, 0, 0, 0, 0, 0, 1],\n",
    "    [1, 0, 1, 0, 0, 0, 0, 0, 0, 1],\n",
    "    [1, 1, 1, 1, 1, 1, 1, 1, 1, 1],\n",
    "]\n",
    "\n",
    "def next_try(maze, x, y):\n",
    "    \"\"\"\n",
    "    从x，y位置，获取下一个未遍历过、需要尝试走的位置。如存在，返回对应的MazeCell和True\n",
    "    否则，返回None，False\n",
    "    \"\"\"\n",
    "    current = maze[x][y]\n",
    "    for i in range(current.direction, 4):\n",
    "        direction = i + 1\n",
    "        if direction==UP:\n",
    "            new_x, new_y = x-1, y\n",
    "        elif direction==RIGHT:\n",
    "            new_x, new_y = x, y+1\n",
    "        elif direction==DOWN:\n",
    "            new_x, new_y = x+1, y\n",
    "        else:\n",
    "            new_x, new_y = x, y-1   \n",
    "        cell = maze[new_x][new_y]\n",
    "        if not cell.wall and not cell.visited:\n",
    "            current.direction = direction\n",
    "            return cell, True\n",
    "\n",
    "    # 没有找到\n",
    "    return None, False\n",
    "         \n",
    "\n",
    "maze = [ [MazeCell(x, y, value==1) for y, value in enumerate(row)] for x, row in enumerate(maze_array) ]\n",
    "\n",
    "start = maze[1][1]\n",
    "out = maze[8][8]\n",
    "\n",
    "stack = Stack()\n",
    "start.visited = True\n",
    "stack.push(start)\n",
    "\n",
    "while not stack.empty():\n",
    "    current = stack.pop()\n",
    "    if current == out:\n",
    "        break\n",
    "\n",
    "    next_cell, found = next_try(maze, current.x, current.y)\n",
    "    if found:\n",
    "        next_cell.visited = True\n",
    "        stack.push(current)\n",
    "        stack.push(next_cell)\n",
    "\n",
    "path = []\n",
    "while not stack.empty():\n",
    "    path.append(stack.pop())\n",
    "path = path[::-1]\n",
    "#locations.reverse()\n",
    "print(path)"
   ]
  },
  {
   "cell_type": "markdown",
   "metadata": {},
   "source": [
    "## 利用matplotlib进行可视化呈现"
   ]
  },
  {
   "cell_type": "code",
   "execution_count": 32,
   "metadata": {},
   "outputs": [
    {
     "data": {
      "image/png": "[encoded data removed]",
      "text/plain": [
       "<Figure size 360x360 with 1 Axes>"
      ]
     },
     "metadata": {
      "needs_background": "light"
     },
     "output_type": "display_data"
    }
   ],
   "source": [
    "import matplotlib.pyplot as plt\n",
    "from matplotlib.patches import Rectangle\n",
    "fig, ax = plt.subplots()\n",
    "fig.set_size_inches(5,5) # 设置每个大小实际占据的尺寸\n",
    "plt.xlim([0, 10])\n",
    "plt.ylim([0, 10])\n",
    "ax.axis('off')\n",
    "\n",
    "def draw_cell(x, y, wall = False):\n",
    "    fc = 'black' if wall else 'white'\n",
    "    ax.add_patch(Rectangle((y, 9-x), 1, 1,\n",
    "            edgecolor = 'pink',\n",
    "            facecolor = fc))\n",
    "\n",
    "def draw_visited(x, y, step):\n",
    "    ax.text(y+0.4, 9-x+0.2, str(step))\n",
    "\n",
    "# 绘制迷宫\n",
    "for row in maze:\n",
    "   for cell in row:\n",
    "       draw_cell(cell.x, cell.y, cell.wall)\n",
    "\n",
    "# 标记找到的路径\n",
    "for idx, cell in enumerate(path):\n",
    "    draw_visited(cell.x, cell.y, idx+1)       \n",
    "\n",
    "plt.show()        \n"
   ]
  }
 ],
 "metadata": {
  "interpreter": {
   "hash": "8c537a367a9aa2b0baf6ef8830747adeae6b1ba057d5e356e28e6f8494a273c8"
  },
  "kernelspec": {
   "display_name": "Python 3.8.8 ('base')",
   "language": "python",
   "name": "python3"
  },
  "language_info": {
   "codemirror_mode": {
    "name": "ipython",
    "version": 3
   },
   "file_extension": ".py",
   "mimetype": "text/x-python",
   "name": "python",
   "nbconvert_exporter": "python",
   "pygments_lexer": "ipython3",
   "version": "3.8.8"
  },
  "orig_nbformat": 4
 },
 "nbformat": 4,
 "nbformat_minor": 2
}
