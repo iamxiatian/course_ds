{
 "cells": [
  {
   "cell_type": "markdown",
   "metadata": {},
   "source": [
    "## 字符串操作\n",
    "\n",
    "从主串$s$中查找模式串/目标串$t$, 暴力遍历法（Brute-Force）"
   ]
  },
  {
   "cell_type": "code",
   "execution_count": 18,
   "metadata": {},
   "outputs": [],
   "source": [
    "def bf_search(source, target) -> tuple:\n",
    "    \"\"\"从source中查找出现的target，返回第一个位置的二元组(主串中的位置, 比较次数)，未找到返回(-1, 比较次数)\"\"\"\n",
    "    compare_count = 0\n",
    "    for i in range(len(source)):\n",
    "        found = True\n",
    "        for j in range(len(target)):\n",
    "            compare_count = compare_count + 1\n",
    "            if source[i+j] != target[j]:\n",
    "                found = False\n",
    "                break\n",
    "        if found:\n",
    "            return i, compare_count\n",
    "    return -1, compare_count"
   ]
  },
  {
   "cell_type": "code",
   "execution_count": 19,
   "metadata": {},
   "outputs": [
    {
     "name": "stdout",
     "output_type": "stream",
     "text": [
      "返回位置： 7\n",
      "在aaaaaaaaaaab的第7个位置开始，发现了aaaab，共比较了40次\n",
      "aaaaaaaaaaab\n",
      "*******aaaab\n"
     ]
    }
   ],
   "source": [
    "source = 'aaaaaaaaaaab'\n",
    "target = 'aaaab'\n",
    "position, compare_count = bf_search(source, target)\n",
    "\n",
    "print('返回位置：', position)\n",
    "print(f'在{source}的第{position}个位置开始，发现了{target}，共比较了{compare_count}次')\n",
    "print(source)\n",
    "print('*'*position, end='')\n",
    "print(target)"
   ]
  },
  {
   "cell_type": "markdown",
   "metadata": {},
   "source": [
    "## KMP算法"
   ]
  },
  {
   "cell_type": "code",
   "execution_count": null,
   "metadata": {},
   "outputs": [],
   "source": []
  }
 ],
 "metadata": {
  "interpreter": {
   "hash": "8c537a367a9aa2b0baf6ef8830747adeae6b1ba057d5e356e28e6f8494a273c8"
  },
  "kernelspec": {
   "display_name": "Python 3.8.8 ('base')",
   "language": "python",
   "name": "python3"
  },
  "language_info": {
   "codemirror_mode": {
    "name": "ipython",
    "version": 3
   },
   "file_extension": ".py",
   "mimetype": "text/x-python",
   "name": "python",
   "nbconvert_exporter": "python",
   "pygments_lexer": "ipython3",
   "version": "3.8.8"
  },
  "orig_nbformat": 4
 },
 "nbformat": 4,
 "nbformat_minor": 2
}
