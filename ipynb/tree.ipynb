{
 "cells": [
  {
   "cell_type": "markdown",
   "metadata": {},
   "source": [
    "# 树\n",
    "## 树的遍历"
   ]
  },
  {
   "cell_type": "code",
   "execution_count": 1,
   "metadata": {},
   "outputs": [
    {
     "name": "stdout",
     "output_type": "stream",
     "text": [
      "D, B, A, E, G, C, H, F, I, "
     ]
    }
   ],
   "source": [
    "class Node:\n",
    "    def __init__(self, data, left=None, right=None) -> None:\n",
    "        self.data = data\n",
    "        self.left = left\n",
    "        self.right = right\n",
    "        \n",
    "root = Node('A', \n",
    "            Node('B', Node('D')), \n",
    "            Node('C', \n",
    "                 Node('E', right=Node('G')), \n",
    "                 Node('F', \n",
    "                      Node('H'), \n",
    "                      Node('I'))))        \n",
    "\n",
    "def inOrderTraverse(node: Node):\n",
    "    if node != None:\n",
    "        inOrderTraverse(node.left)\n",
    "        print(node.data, end=', ')\n",
    "        inOrderTraverse(node.right)\n",
    "        \n",
    "inOrderTraverse(root)"
   ]
  },
  {
   "cell_type": "code",
   "execution_count": 7,
   "metadata": {},
   "outputs": [
    {
     "name": "stdout",
     "output_type": "stream",
     "text": [
      "A B C D E F G H I "
     ]
    }
   ],
   "source": [
    "from queue import Queue\n",
    "q = Queue()\n",
    "q.put(root)\n",
    "\n",
    "while not q.empty():\n",
    "    node = q.get()\n",
    "    print(node.data, end=' ')\n",
    "    if node.left != None: q.put(node.left)\n",
    "    if node.right != None: q.put(node.right)\n",
    "\n",
    "\n"
   ]
  },
  {
   "cell_type": "code",
   "execution_count": 10,
   "metadata": {},
   "outputs": [
    {
     "name": "stdout",
     "output_type": "stream",
     "text": [
      "D B A E G C H F I "
     ]
    }
   ],
   "source": [
    "stack = []\n",
    "p = root\n",
    "\n",
    "while(p!=None or len(stack)>0):\n",
    "    if p!= None: \n",
    "        stack.append(p)\n",
    "        p = p.left\n",
    "    else:\n",
    "        p = stack.pop()\n",
    "        print(p.data, end=' ')\n",
    "        p = p.right\n",
    "        "
   ]
  },
  {
   "cell_type": "code",
   "execution_count": 2,
   "metadata": {},
   "outputs": [
    {
     "data": {
      "text/plain": [
       "82.6"
      ]
     },
     "execution_count": 2,
     "metadata": {},
     "output_type": "execute_result"
    }
   ],
   "source": [
    "class TNode:\n",
    "    def __init__(self, data, parent_index, first_child=None) -> None:\n",
    "        self.data = data\n",
    "        self.parent_index = parent_index\n",
    "        self.first_child = first_child\n",
    "\n",
    "class ChildNode:\n",
    "    def __init__(self, index, next_sibling=None) -> None:\n",
    "        self.index = index\n",
    "        self.next_sibling = next_sibling\n",
    "         "
   ]
  },
  {
   "cell_type": "code",
   "execution_count": 3,
   "metadata": {},
   "outputs": [
    {
     "name": "stdout",
     "output_type": "stream",
     "text": [
      "D, B, A, E, G, C, H, F, I, "
     ]
    }
   ],
   "source": [
    "class TNode:\n",
    "    def __init__(self, data, lc = -1, rc = -1) -> None:\n",
    "        self.data = data\n",
    "        self.lc = lc\n",
    "        self.rc = rc\n",
    "        \n",
    "tree = [\n",
    "    TNode('A', 1, 2),\n",
    "    TNode('B', 3, -1),\n",
    "    TNode('C', 4, 5),\n",
    "    TNode('D', -1, -1),\n",
    "    TNode('E', -1, 6),\n",
    "    TNode('F', 7, 8),\n",
    "    TNode('G'), TNode('H'), TNode('I')\n",
    "]        \n",
    "\n",
    "root:TNode = tree[0]\n",
    "def in_order(node: TNode):\n",
    "    \"\"\"中序遍历\"\"\"\n",
    "    if node.lc != -1:\n",
    "        in_order(tree[node.lc])\n",
    "    print(node.data, end=', ')\n",
    "    if node.rc != -1:\n",
    "        in_order(tree[node.rc])\n",
    "        \n",
    "# 测试中序遍历        \n",
    "in_order(root)        \n",
    "\n"
   ]
  }
 ],
 "metadata": {
  "kernelspec": {
   "display_name": "Python 3.9.7 ('base')",
   "language": "python",
   "name": "python3"
  },
  "language_info": {
   "codemirror_mode": {
    "name": "ipython",
    "version": 3
   },
   "file_extension": ".py",
   "mimetype": "text/x-python",
   "name": "python",
   "nbconvert_exporter": "python",
   "pygments_lexer": "ipython3",
   "version": "3.9.7"
  },
  "orig_nbformat": 4,
  "vscode": {
   "interpreter": {
    "hash": "0522cd5858c5bd2e4c4a96d21fc2e8028e73501cd21401bf0eb36d0fd38ecacc"
   }
  }
 },
 "nbformat": 4,
 "nbformat_minor": 2
}
